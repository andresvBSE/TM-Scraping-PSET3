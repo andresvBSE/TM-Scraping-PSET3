{
 "cells": [
  {
   "cell_type": "markdown",
   "source": [
    "## Import modules:"
   ],
   "metadata": {
    "collapsed": false,
    "pycharm": {
     "name": "#%% md\n"
    }
   }
  },
  {
   "cell_type": "code",
   "execution_count": 128,
   "outputs": [],
   "source": [
    "import pandas as pd\n",
    "from selenium import webdriver\n",
    "from selenium.webdriver.common.by import By\n",
    "import re\n",
    "import time\n",
    "\n",
    "#imports keys such as enter etc\n",
    "from selenium.webdriver.common.keys import Keys\n",
    "from selenium.webdriver.support.ui import WebDriverWait\n",
    "from selenium.webdriver.support import expected_conditions as EC\n",
    "from selenium.webdriver.support.ui import Select\n",
    "from selenium.webdriver.support import expected_conditions as EC\n",
    "from bs4 import BeautifulSoup\n",
    "import requests\n",
    "\n"
   ],
   "metadata": {
    "collapsed": false,
    "pycharm": {
     "name": "#%%\n"
    }
   }
  },
  {
   "cell_type": "code",
   "execution_count": 129,
   "outputs": [],
   "source": [
    "# Get number of properties: NOT USED\n",
    "# properties = driver.find_elements(By.XPATH, '//h1[text() and @class=\"_30227359d _0db903e42\"]')\n",
    "# prop_text = properties[0].text # text gives me 'Barcelona: ## properties'\n",
    "# num_prop = re.findall('[0-9]+', prop_text)\n",
    "# num_prop = num_prop[0]\n",
    "# print(num_prop)\n",
    "# print(type(num_prop))"
   ],
   "metadata": {
    "collapsed": false,
    "pycharm": {
     "name": "#%%\n"
    }
   }
  },
  {
   "cell_type": "markdown",
   "source": [
    "## Function for number of pages:"
   ],
   "metadata": {
    "collapsed": false,
    "pycharm": {
     "name": "#%% md\n"
    }
   }
  },
  {
   "cell_type": "code",
   "execution_count": 130,
   "outputs": [],
   "source": [
    "def get_number_pages(browser):\n",
    "    '''\n",
    "    Get the number of pages.\n",
    "    '''\n",
    "    a = driver.find_elements_by_xpath(\n",
    "        '//button[text() and @class=\"_4310f7077 _fd15ae127\"]')\n",
    "    total_pages = int(a[-1].text)\n",
    "    return(total_pages)\n",
    "\n"
   ],
   "metadata": {
    "collapsed": false,
    "pycharm": {
     "name": "#%%\n"
    }
   }
  },
  {
   "cell_type": "markdown",
   "source": [
    "## Test that pages loop over: NO NEED TO RUN"
   ],
   "metadata": {
    "collapsed": false,
    "pycharm": {
     "name": "#%% md\n"
    }
   }
  },
  {
   "cell_type": "code",
   "execution_count": 131,
   "outputs": [],
   "source": [
    "# for i in range(0,num_pages):\n",
    "#     pagebuttons=driver.find_elements(By.XPATH,\n",
    "#             '//button[text() and @class=\"_4310f7077 _fd15ae127\"]')\n",
    "#     if i<7:\n",
    "#         pagebuttons[i+1].click()\n",
    "#     elif i==num_pages-1:\n",
    "#         break\n",
    "#     else:\n",
    "#         pagebuttons[6].click()\n",
    "#         time.sleep(2)"
   ],
   "metadata": {
    "collapsed": false,
    "pycharm": {
     "name": "#%%\n"
    }
   }
  },
  {
   "cell_type": "markdown",
   "source": [
    "## URL's for pages:"
   ],
   "metadata": {
    "collapsed": false,
    "pycharm": {
     "name": "#%% md\n"
    }
   }
  },
  {
   "cell_type": "code",
   "execution_count": 132,
   "outputs": [],
   "source": [
    "url_0 = \"https://www.booking.com/searchresults.en-gb.html?aid=304142&label=gen173nr-1FCAEoggI46AdIM1gEaEaIAQGYAQm4AQfIAQzYAQHoAQH4AQuIAgGoAgO4Aqm5y48GwAIB0gIkZjJkNzBjMWEtYjRiZi00OWVmLWJjYmUtODQxOTVlMzgxOWU42AIG4AIB&sid=77e9efe203f0f568bbf8e79686df1c7e&sb=1&sb_lp=1&src=index&src_elem=sb&error_url=https%3A%2F%2Fwww.booking.com%2Findex.en-gb.html%3Faid%3D304142%3Blabel%3Dgen173nr-1FCAEoggI46AdIM1gEaEaIAQGYAQm4AQfIAQzYAQHoAQH4AQuIAgGoAgO4Aqm5y48GwAIB0gIkZjJkNzBjMWEtYjRiZi00OWVmLWJjYmUtODQxOTVlMzgxOWU42AIG4AIB%3Bsid%3D77e9efe203f0f568bbf8e79686df1c7e%3Bsb_price_type%3Dtotal%3Bsrpvid%3D443b8de927f10164%26%3B&ss=Barcelona&is_ski_area=0&ssne=Barcelona&ssne_untouched=Barcelona&dest_id=-372490&dest_type=city&checkin_year=2022&checkin_month=3&checkin_monthday=23&checkout_year=2022&checkout_month=3&checkout_monthday=24&group_adults=1&group_children=0&no_rooms=1&b_h4u_keep_filters=&from_sf=1\""
   ],
   "metadata": {
    "collapsed": false,
    "pycharm": {
     "name": "#%%\n"
    }
   }
  },
  {
   "cell_type": "code",
   "execution_count": 133,
   "outputs": [],
   "source": [
    "url_1 = \"https://www.booking.com/searchresults.en-gb.html?aid=304142&label=gen173nr-1FCAEoggI46AdIM1gEaEaIAQGYAQm4AQfIAQzYAQHoAQH4AQuIAgGoAgO4Aqm5y48GwAIB0gIkZjJkNzBjMWEtYjRiZi00OWVmLWJjYmUtODQxOTVlMzgxOWU42AIG4AIB&sid=b96dacf0fa2b9b296fd6e54a609cb6f6&sb=1&sb_lp=1&src=index&src_elem=sb&error_url=https%3A%2F%2Fwww.booking.com%2Findex.en-gb.html%3Faid%3D304142%3Blabel%3Dgen173nr-1FCAEoggI46AdIM1gEaEaIAQGYAQm4AQfIAQzYAQHoAQH4AQuIAgGoAgO4Aqm5y48GwAIB0gIkZjJkNzBjMWEtYjRiZi00OWVmLWJjYmUtODQxOTVlMzgxOWU42AIG4AIB%3Bsid%3Db96dacf0fa2b9b296fd6e54a609cb6f6%3Bsb_price_type%3Dtotal%3Bsrpvid%3D25b28d3ae87f0155%26%3B&ss=Barcelona&is_ski_area=0&ssne=Barcelona&ssne_untouched=Barcelona&dest_id=-372490&dest_type=city&checkin_year=2022&checkin_month=3&checkin_monthday=24&checkout_year=2022&checkout_month=3&checkout_monthday=25&group_adults=1&group_children=0&no_rooms=1&b_h4u_keep_filters=&from_sf=1\""
   ],
   "metadata": {
    "collapsed": false,
    "pycharm": {
     "name": "#%%\n"
    }
   }
  },
  {
   "cell_type": "code",
   "execution_count": 134,
   "outputs": [],
   "source": [
    "url_2 = \"https://www.booking.com/searchresults.en-gb.html?label=gen173nr-1FCAEoggI46AdIM1gEaEaIAQGYAQm4AQfIAQzYAQHoAQH4AQuIAgGoAgO4Aqm5y48GwAIB0gIkZjJkNzBjMWEtYjRiZi00OWVmLWJjYmUtODQxOTVlMzgxOWU42AIG4AIB&sid=02419d7ed75d362355ed7a0b2cdbaae3&sb=1&sb_lp=1&src=index&src_elem=sb&error_url=https%3A%2F%2Fwww.booking.com%2Findex.en-gb.html%3Flabel%3Dgen173nr-1FCAEoggI46AdIM1gEaEaIAQGYAQm4AQfIAQzYAQHoAQH4AQuIAgGoAgO4Aqm5y48GwAIB0gIkZjJkNzBjMWEtYjRiZi00OWVmLWJjYmUtODQxOTVlMzgxOWU42AIG4AIB%3Bsid%3D02419d7ed75d362355ed7a0b2cdbaae3%3Bsb_price_type%3Dtotal%26%3B&ss=Barcelona&is_ski_area=0&ssne=Barcelona&ssne_untouched=Barcelona&dest_id=-372490&dest_type=city&checkin_year=2022&checkin_month=3&checkin_monthday=25&checkout_year=2022&checkout_month=3&checkout_monthday=26&group_adults=1&group_children=0&no_rooms=1&b_h4u_keep_filters=&from_sf=1\""
   ],
   "metadata": {
    "collapsed": false,
    "pycharm": {
     "name": "#%%\n"
    }
   }
  },
  {
   "cell_type": "code",
   "execution_count": 135,
   "outputs": [],
   "source": [
    "url_3 = \"https://www.booking.com/searchresults.en-gb.html?aid=304142&label=gen173nr-1FCAEoggI46AdIM1gEaEaIAQGYAQm4AQfIAQzYAQHoAQH4AQuIAgGoAgO4Aqm5y48GwAIB0gIkZjJkNzBjMWEtYjRiZi00OWVmLWJjYmUtODQxOTVlMzgxOWU42AIG4AIB&sid=50ec3fc58207c2b64ec4fe7386f84fef&sb=1&sb_lp=1&src=index&src_elem=sb&error_url=https%3A%2F%2Fwww.booking.com%2Findex.en-gb.html%3Faid%3D304142%3Blabel%3Dgen173nr-1FCAEoggI46AdIM1gEaEaIAQGYAQm4AQfIAQzYAQHoAQH4AQuIAgGoAgO4Aqm5y48GwAIB0gIkZjJkNzBjMWEtYjRiZi00OWVmLWJjYmUtODQxOTVlMzgxOWU42AIG4AIB%3Bsid%3D50ec3fc58207c2b64ec4fe7386f84fef%3Bsb_price_type%3Dtotal%3Bsrpvid%3Dd1a081750a7e00b2%26%3B&ss=Barcelona&is_ski_area=0&ssne=Barcelona&ssne_untouched=Barcelona&dest_id=-372490&dest_type=city&checkin_year=2022&checkin_month=3&checkin_monthday=26&checkout_year=2022&checkout_month=3&checkout_monthday=27&group_adults=1&group_children=0&no_rooms=1&b_h4u_keep_filters=&from_sf=1\""
   ],
   "metadata": {
    "collapsed": false,
    "pycharm": {
     "name": "#%%\n"
    }
   }
  },
  {
   "cell_type": "code",
   "execution_count": 136,
   "outputs": [],
   "source": [
    "url_4 = \"https://www.booking.com/searchresults.en-gb.html?aid=304142&label=gen173nr-1FCAEoggI46AdIM1gEaEaIAQGYAQm4AQfIAQzYAQHoAQH4AQuIAgGoAgO4Aqm5y48GwAIB0gIkZjJkNzBjMWEtYjRiZi00OWVmLWJjYmUtODQxOTVlMzgxOWU42AIG4AIB&sid=23d7cfb31d2afcadef2659c512e5d32c&sb=1&sb_lp=1&src=index&src_elem=sb&error_url=https%3A%2F%2Fwww.booking.com%2Findex.en-gb.html%3Faid%3D304142%3Blabel%3Dgen173nr-1FCAEoggI46AdIM1gEaEaIAQGYAQm4AQfIAQzYAQHoAQH4AQuIAgGoAgO4Aqm5y48GwAIB0gIkZjJkNzBjMWEtYjRiZi00OWVmLWJjYmUtODQxOTVlMzgxOWU42AIG4AIB%3Bsid%3D23d7cfb31d2afcadef2659c512e5d32c%3Bsb_price_type%3Dtotal%3Bsrpvid%3D551f8235b2150255%26%3B&ss=Barcelona&is_ski_area=0&ssne=Barcelona&ssne_untouched=Barcelona&dest_id=-372490&dest_type=city&checkin_year=2022&checkin_month=3&checkin_monthday=27&checkout_year=2022&checkout_month=3&checkout_monthday=28&group_adults=1&group_children=0&no_rooms=1&b_h4u_keep_filters=&from_sf=1\""
   ],
   "metadata": {
    "collapsed": false,
    "pycharm": {
     "name": "#%%\n"
    }
   }
  },
  {
   "cell_type": "code",
   "execution_count": 137,
   "outputs": [],
   "source": [
    "url_5 = \"https://www.booking.com/searchresults.en-gb.html?aid=304142&label=gen173nr-1FCAEoggI46AdIM1gEaEaIAQGYAQm4AQfIAQzYAQHoAQH4AQuIAgGoAgO4Aqm5y48GwAIB0gIkZjJkNzBjMWEtYjRiZi00OWVmLWJjYmUtODQxOTVlMzgxOWU42AIG4AIB&sid=eaeb2bd01b6312c8037be9a28e368d49&sb=1&sb_lp=1&src=index&src_elem=sb&error_url=https%3A%2F%2Fwww.booking.com%2Findex.en-gb.html%3Faid%3D304142%3Blabel%3Dgen173nr-1FCAEoggI46AdIM1gEaEaIAQGYAQm4AQfIAQzYAQHoAQH4AQuIAgGoAgO4Aqm5y48GwAIB0gIkZjJkNzBjMWEtYjRiZi00OWVmLWJjYmUtODQxOTVlMzgxOWU42AIG4AIB%3Bsid%3Deaeb2bd01b6312c8037be9a28e368d49%3Bsb_price_type%3Dtotal%3Bsrpvid%3D88ec82e6cf8a0015%26%3B&ss=Barcelona&is_ski_area=0&ssne=Barcelona&ssne_untouched=Barcelona&dest_id=-372490&dest_type=city&checkin_year=2022&checkin_month=3&checkin_monthday=28&checkout_year=2022&checkout_month=3&checkout_monthday=29&group_adults=1&group_children=0&no_rooms=1&b_h4u_keep_filters=&from_sf=1\""
   ],
   "metadata": {
    "collapsed": false,
    "pycharm": {
     "name": "#%%\n"
    }
   }
  },
  {
   "cell_type": "code",
   "execution_count": 138,
   "outputs": [],
   "source": [
    "url_6 = \"https://www.booking.com/searchresults.en-gb.html?aid=304142&label=gen173nr-1FCAEoggI46AdIM1gEaEaIAQGYAQm4AQfIAQzYAQHoAQH4AQuIAgGoAgO4Aqm5y48GwAIB0gIkZjJkNzBjMWEtYjRiZi00OWVmLWJjYmUtODQxOTVlMzgxOWU42AIG4AIB&sid=7db12ef48d576ec948e70ca4985a9865&sb=1&sb_lp=1&src=index&src_elem=sb&error_url=https%3A%2F%2Fwww.booking.com%2Findex.en-gb.html%3Faid%3D304142%3Blabel%3Dgen173nr-1FCAEoggI46AdIM1gEaEaIAQGYAQm4AQfIAQzYAQHoAQH4AQuIAgGoAgO4Aqm5y48GwAIB0gIkZjJkNzBjMWEtYjRiZi00OWVmLWJjYmUtODQxOTVlMzgxOWU42AIG4AIB%3Bsid%3D7db12ef48d576ec948e70ca4985a9865%3Bsb_price_type%3Dtotal%3Bsrpvid%3D3e5c83e498130075%26%3B&ss=Barcelona&is_ski_area=0&ssne=Barcelona&ssne_untouched=Barcelona&dest_id=-372490&dest_type=city&checkin_year=2022&checkin_month=3&checkin_monthday=29&checkout_year=2022&checkout_month=3&checkout_monthday=30&group_adults=1&group_children=0&no_rooms=1&b_h4u_keep_filters=&from_sf=1\""
   ],
   "metadata": {
    "collapsed": false,
    "pycharm": {
     "name": "#%%\n"
    }
   }
  },
  {
   "cell_type": "code",
   "execution_count": 139,
   "outputs": [],
   "source": [
    "url_7 = \"https://www.booking.com/searchresults.en-gb.html?aid=304142&label=gen173nr-1FCAEoggI46AdIM1gEaEaIAQGYAQm4AQfIAQzYAQHoAQH4AQuIAgGoAgO4Aqm5y48GwAIB0gIkZjJkNzBjMWEtYjRiZi00OWVmLWJjYmUtODQxOTVlMzgxOWU42AIG4AIB&sid=6b21ed24e2931600c71f0b907816e4a6&sb=1&sb_lp=1&src=index&src_elem=sb&error_url=https%3A%2F%2Fwww.booking.com%2Findex.en-gb.html%3Faid%3D304142%3Blabel%3Dgen173nr-1FCAEoggI46AdIM1gEaEaIAQGYAQm4AQfIAQzYAQHoAQH4AQuIAgGoAgO4Aqm5y48GwAIB0gIkZjJkNzBjMWEtYjRiZi00OWVmLWJjYmUtODQxOTVlMzgxOWU42AIG4AIB%3Bsid%3D6b21ed24e2931600c71f0b907816e4a6%3Bsb_price_type%3Dtotal%3Bsrpvid%3D20ab87e4d0be0126%26%3B&ss=Barcelona&is_ski_area=0&ssne=Barcelona&ssne_untouched=Barcelona&dest_id=-372490&dest_type=city&checkin_year=2022&checkin_month=3&checkin_monthday=30&checkout_year=2022&checkout_month=3&checkout_monthday=31&group_adults=1&group_children=0&no_rooms=1&b_h4u_keep_filters=&from_sf=1\""
   ],
   "metadata": {
    "collapsed": false,
    "pycharm": {
     "name": "#%%\n"
    }
   }
  },
  {
   "cell_type": "code",
   "execution_count": 140,
   "outputs": [],
   "source": [
    "url_8 = \"https://www.booking.com/searchresults.en-gb.html?aid=304142&label=gen173nr-1FCAEoggI46AdIM1gEaEaIAQGYAQm4AQfIAQzYAQHoAQH4AQuIAgGoAgO4Aqm5y48GwAIB0gIkZjJkNzBjMWEtYjRiZi00OWVmLWJjYmUtODQxOTVlMzgxOWU42AIG4AIB&sid=2d8f2c0e75ad946695faca8475bef5dd&sb=1&sb_lp=1&src=index&src_elem=sb&error_url=https%3A%2F%2Fwww.booking.com%2Findex.en-gb.html%3Faid%3D304142%3Blabel%3Dgen173nr-1FCAEoggI46AdIM1gEaEaIAQGYAQm4AQfIAQzYAQHoAQH4AQuIAgGoAgO4Aqm5y48GwAIB0gIkZjJkNzBjMWEtYjRiZi00OWVmLWJjYmUtODQxOTVlMzgxOWU42AIG4AIB%3Bsid%3D2d8f2c0e75ad946695faca8475bef5dd%3Bsb_price_type%3Dtotal%3Bsrpvid%3Dd25888a5a7460090%26%3B&ss=Barcelona&is_ski_area=0&ssne=Barcelona&ssne_untouched=Barcelona&dest_id=-372490&dest_type=city&checkin_year=2022&checkin_month=3&checkin_monthday=31&checkout_year=2022&checkout_month=4&checkout_monthday=1&group_adults=1&group_children=0&no_rooms=1&b_h4u_keep_filters=&from_sf=1\""
   ],
   "metadata": {
    "collapsed": false,
    "pycharm": {
     "name": "#%%\n"
    }
   }
  },
  {
   "cell_type": "code",
   "execution_count": 141,
   "outputs": [],
   "source": [
    "url_9 = \"https://www.booking.com/searchresults.en-gb.html?aid=304142&label=gen173nr-1FCAEoggI46AdIM1gEaEaIAQGYAQm4AQfIAQzYAQHoAQH4AQuIAgGoAgO4Aqm5y48GwAIB0gIkZjJkNzBjMWEtYjRiZi00OWVmLWJjYmUtODQxOTVlMzgxOWU42AIG4AIB&sid=7e04498ff605b83230d19ae204e4d939&sb=1&sb_lp=1&src=index&src_elem=sb&error_url=https%3A%2F%2Fwww.booking.com%2Findex.en-gb.html%3Faid%3D304142%3Blabel%3Dgen173nr-1FCAEoggI46AdIM1gEaEaIAQGYAQm4AQfIAQzYAQHoAQH4AQuIAgGoAgO4Aqm5y48GwAIB0gIkZjJkNzBjMWEtYjRiZi00OWVmLWJjYmUtODQxOTVlMzgxOWU42AIG4AIB%3Bsid%3D7e04498ff605b83230d19ae204e4d939%3Bsb_price_type%3Dtotal%3Bsrpvid%3D20ce894d6b3c02f2%26%3B&ss=Barcelona&is_ski_area=0&ssne=Barcelona&ssne_untouched=Barcelona&dest_id=-372490&dest_type=city&checkin_year=2022&checkin_month=4&checkin_monthday=1&checkout_year=2022&checkout_month=4&checkout_monthday=2&group_adults=1&group_children=0&no_rooms=1&b_h4u_keep_filters=&from_sf=1\""
   ],
   "metadata": {
    "collapsed": false,
    "pycharm": {
     "name": "#%%\n"
    }
   }
  },
  {
   "cell_type": "code",
   "execution_count": 142,
   "outputs": [],
   "source": [
    "url_10 = \"https://www.booking.com/searchresults.en-gb.html?aid=304142&label=gen173nr-1FCAEoggI46AdIM1gEaEaIAQGYAQm4AQfIAQzYAQHoAQH4AQuIAgGoAgO4Aqm5y48GwAIB0gIkZjJkNzBjMWEtYjRiZi00OWVmLWJjYmUtODQxOTVlMzgxOWU42AIG4AIB&sid=c8772afd8c0800d30fe4ce7fafe7948e&sb=1&sb_lp=1&src=index&src_elem=sb&error_url=https%3A%2F%2Fwww.booking.com%2Findex.en-gb.html%3Faid%3D304142%3Blabel%3Dgen173nr-1FCAEoggI46AdIM1gEaEaIAQGYAQm4AQfIAQzYAQHoAQH4AQuIAgGoAgO4Aqm5y48GwAIB0gIkZjJkNzBjMWEtYjRiZi00OWVmLWJjYmUtODQxOTVlMzgxOWU42AIG4AIB%3Bsid%3Dc8772afd8c0800d30fe4ce7fafe7948e%3Bsb_price_type%3Dtotal%3Bsrpvid%3D7d1589edb2250243%26%3B&ss=Barcelona&is_ski_area=0&ssne=Barcelona&ssne_untouched=Barcelona&dest_id=-372490&dest_type=city&checkin_year=2022&checkin_month=4&checkin_monthday=2&checkout_year=2022&checkout_month=4&checkout_monthday=3&group_adults=1&group_children=0&no_rooms=1&b_h4u_keep_filters=&from_sf=1\""
   ],
   "metadata": {
    "collapsed": false,
    "pycharm": {
     "name": "#%%\n"
    }
   }
  },
  {
   "cell_type": "code",
   "execution_count": 143,
   "outputs": [],
   "source": [
    "url_11 = \"https://www.booking.com/searchresults.en-gb.html?aid=304142&label=gen173nr-1FCAEoggI46AdIM1gEaEaIAQGYAQm4AQfIAQzYAQHoAQH4AQuIAgGoAgO4Aqm5y48GwAIB0gIkZjJkNzBjMWEtYjRiZi00OWVmLWJjYmUtODQxOTVlMzgxOWU42AIG4AIB&sid=03c3b241ce98558d8fdd38c5138fd744&sb=1&sb_lp=1&src=index&src_elem=sb&error_url=https%3A%2F%2Fwww.booking.com%2Findex.en-gb.html%3Faid%3D304142%3Blabel%3Dgen173nr-1FCAEoggI46AdIM1gEaEaIAQGYAQm4AQfIAQzYAQHoAQH4AQuIAgGoAgO4Aqm5y48GwAIB0gIkZjJkNzBjMWEtYjRiZi00OWVmLWJjYmUtODQxOTVlMzgxOWU42AIG4AIB%3Bsid%3D03c3b241ce98558d8fdd38c5138fd744%3Bsb_price_type%3Dtotal%3Bsrpvid%3Dca848ae46e9d0127%26%3B&ss=Barcelona&is_ski_area=0&ssne=Barcelona&ssne_untouched=Barcelona&dest_id=-372490&dest_type=city&checkin_year=2022&checkin_month=4&checkin_monthday=3&checkout_year=2022&checkout_month=4&checkout_monthday=4&group_adults=1&group_children=0&no_rooms=1&b_h4u_keep_filters=&from_sf=1\""
   ],
   "metadata": {
    "collapsed": false,
    "pycharm": {
     "name": "#%%\n"
    }
   }
  },
  {
   "cell_type": "code",
   "execution_count": 144,
   "outputs": [],
   "source": [
    "url_12 = \"https://www.booking.com/searchresults.en-gb.html?aid=304142&label=gen173nr-1FCAEoggI46AdIM1gEaEaIAQGYAQm4AQfIAQzYAQHoAQH4AQuIAgGoAgO4Aqm5y48GwAIB0gIkZjJkNzBjMWEtYjRiZi00OWVmLWJjYmUtODQxOTVlMzgxOWU42AIG4AIB&sid=883df301f4e63c86a72ed93ef7b2dacf&sb=1&sb_lp=1&src=index&src_elem=sb&error_url=https%3A%2F%2Fwww.booking.com%2Findex.en-gb.html%3Faid%3D304142%3Blabel%3Dgen173nr-1FCAEoggI46AdIM1gEaEaIAQGYAQm4AQfIAQzYAQHoAQH4AQuIAgGoAgO4Aqm5y48GwAIB0gIkZjJkNzBjMWEtYjRiZi00OWVmLWJjYmUtODQxOTVlMzgxOWU42AIG4AIB%3Bsid%3D883df301f4e63c86a72ed93ef7b2dacf%3Bsb_price_type%3Dtotal%3Bsrpvid%3D465d8bbcdf950161%26%3B&ss=Barcelona&is_ski_area=0&ssne=Barcelona&ssne_untouched=Barcelona&dest_id=-372490&dest_type=city&checkin_year=2022&checkin_month=4&checkin_monthday=4&checkout_year=2022&checkout_month=4&checkout_monthday=5&group_adults=1&group_children=0&no_rooms=1&b_h4u_keep_filters=&from_sf=1\""
   ],
   "metadata": {
    "collapsed": false,
    "pycharm": {
     "name": "#%%\n"
    }
   }
  },
  {
   "cell_type": "code",
   "execution_count": 145,
   "outputs": [],
   "source": [
    "url_13 = \"https://www.booking.com/searchresults.en-gb.html?aid=304142&label=gen173nr-1FCAEoggI46AdIM1gEaEaIAQGYAQm4AQfIAQzYAQHoAQH4AQuIAgGoAgO4Aqm5y48GwAIB0gIkZjJkNzBjMWEtYjRiZi00OWVmLWJjYmUtODQxOTVlMzgxOWU42AIG4AIB&sid=1792de65292c7fd980f7a82ba3c6414b&sb=1&sb_lp=1&src=index&src_elem=sb&error_url=https%3A%2F%2Fwww.booking.com%2Findex.en-gb.html%3Faid%3D304142%3Blabel%3Dgen173nr-1FCAEoggI46AdIM1gEaEaIAQGYAQm4AQfIAQzYAQHoAQH4AQuIAgGoAgO4Aqm5y48GwAIB0gIkZjJkNzBjMWEtYjRiZi00OWVmLWJjYmUtODQxOTVlMzgxOWU42AIG4AIB%3Bsid%3D1792de65292c7fd980f7a82ba3c6414b%3Bsb_price_type%3Dtotal%3Bsrpvid%3D24bd8c85eb8c0067%26%3B&ss=Barcelona&is_ski_area=0&ssne=Barcelona&ssne_untouched=Barcelona&dest_id=-372490&dest_type=city&checkin_year=2022&checkin_month=4&checkin_monthday=5&checkout_year=2022&checkout_month=4&checkout_monthday=6&group_adults=1&group_children=0&no_rooms=1&b_h4u_keep_filters=&from_sf=1\""
   ],
   "metadata": {
    "collapsed": false,
    "pycharm": {
     "name": "#%%\n"
    }
   }
  },
  {
   "cell_type": "code",
   "execution_count": 146,
   "outputs": [],
   "source": [
    "url_list = [url_0,url_1,url_2,url_3,url_4,url_5,url_6,url_7,url_8,url_9,url_10,url_11,url_12,url_13]"
   ],
   "metadata": {
    "collapsed": false,
    "pycharm": {
     "name": "#%%\n"
    }
   }
  },
  {
   "cell_type": "markdown",
   "source": [
    "## Loop for all webpages in url_list:"
   ],
   "metadata": {
    "collapsed": false,
    "pycharm": {
     "name": "#%% md\n"
    }
   }
  },
  {
   "cell_type": "code",
   "execution_count": 147,
   "outputs": [
    {
     "name": "stderr",
     "output_type": "stream",
     "text": [
      "/var/folders/z1/06t5y7z11fz24b5p636_mqnr0000gn/T/ipykernel_49847/3857741534.py:2: DeprecationWarning: executable_path has been deprecated, please pass in a Service object\n",
      "  driver = webdriver.Chrome(PATH)\n"
     ]
    },
    {
     "ename": "ProtocolError",
     "evalue": "('Connection aborted.', RemoteDisconnected('Remote end closed connection without response'))",
     "output_type": "error",
     "traceback": [
      "\u001B[0;31m---------------------------------------------------------------------------\u001B[0m",
      "\u001B[0;31mRemoteDisconnected\u001B[0m                        Traceback (most recent call last)",
      "File \u001B[0;32m~/Desktop/School/MSC/DS/Term 2/TM/Assignments/PS3/scraping/venv/lib/python3.8/site-packages/urllib3/connectionpool.py:703\u001B[0m, in \u001B[0;36mHTTPConnectionPool.urlopen\u001B[0;34m(self, method, url, body, headers, retries, redirect, assert_same_host, timeout, pool_timeout, release_conn, chunked, body_pos, **response_kw)\u001B[0m\n\u001B[1;32m    702\u001B[0m \u001B[38;5;66;03m# Make the request on the httplib connection object.\u001B[39;00m\n\u001B[0;32m--> 703\u001B[0m httplib_response \u001B[38;5;241m=\u001B[39m \u001B[38;5;28;43mself\u001B[39;49m\u001B[38;5;241;43m.\u001B[39;49m\u001B[43m_make_request\u001B[49m\u001B[43m(\u001B[49m\n\u001B[1;32m    704\u001B[0m \u001B[43m    \u001B[49m\u001B[43mconn\u001B[49m\u001B[43m,\u001B[49m\n\u001B[1;32m    705\u001B[0m \u001B[43m    \u001B[49m\u001B[43mmethod\u001B[49m\u001B[43m,\u001B[49m\n\u001B[1;32m    706\u001B[0m \u001B[43m    \u001B[49m\u001B[43murl\u001B[49m\u001B[43m,\u001B[49m\n\u001B[1;32m    707\u001B[0m \u001B[43m    \u001B[49m\u001B[43mtimeout\u001B[49m\u001B[38;5;241;43m=\u001B[39;49m\u001B[43mtimeout_obj\u001B[49m\u001B[43m,\u001B[49m\n\u001B[1;32m    708\u001B[0m \u001B[43m    \u001B[49m\u001B[43mbody\u001B[49m\u001B[38;5;241;43m=\u001B[39;49m\u001B[43mbody\u001B[49m\u001B[43m,\u001B[49m\n\u001B[1;32m    709\u001B[0m \u001B[43m    \u001B[49m\u001B[43mheaders\u001B[49m\u001B[38;5;241;43m=\u001B[39;49m\u001B[43mheaders\u001B[49m\u001B[43m,\u001B[49m\n\u001B[1;32m    710\u001B[0m \u001B[43m    \u001B[49m\u001B[43mchunked\u001B[49m\u001B[38;5;241;43m=\u001B[39;49m\u001B[43mchunked\u001B[49m\u001B[43m,\u001B[49m\n\u001B[1;32m    711\u001B[0m \u001B[43m\u001B[49m\u001B[43m)\u001B[49m\n\u001B[1;32m    713\u001B[0m \u001B[38;5;66;03m# If we're going to release the connection in ``finally:``, then\u001B[39;00m\n\u001B[1;32m    714\u001B[0m \u001B[38;5;66;03m# the response doesn't need to know about the connection. Otherwise\u001B[39;00m\n\u001B[1;32m    715\u001B[0m \u001B[38;5;66;03m# it will also try to release it and we'll have a double-release\u001B[39;00m\n\u001B[1;32m    716\u001B[0m \u001B[38;5;66;03m# mess.\u001B[39;00m\n",
      "File \u001B[0;32m~/Desktop/School/MSC/DS/Term 2/TM/Assignments/PS3/scraping/venv/lib/python3.8/site-packages/urllib3/connectionpool.py:449\u001B[0m, in \u001B[0;36mHTTPConnectionPool._make_request\u001B[0;34m(self, conn, method, url, timeout, chunked, **httplib_request_kw)\u001B[0m\n\u001B[1;32m    445\u001B[0m         \u001B[38;5;28;01mexcept\u001B[39;00m \u001B[38;5;167;01mBaseException\u001B[39;00m \u001B[38;5;28;01mas\u001B[39;00m e:\n\u001B[1;32m    446\u001B[0m             \u001B[38;5;66;03m# Remove the TypeError from the exception chain in\u001B[39;00m\n\u001B[1;32m    447\u001B[0m             \u001B[38;5;66;03m# Python 3 (including for exceptions like SystemExit).\u001B[39;00m\n\u001B[1;32m    448\u001B[0m             \u001B[38;5;66;03m# Otherwise it looks like a bug in the code.\u001B[39;00m\n\u001B[0;32m--> 449\u001B[0m             \u001B[43msix\u001B[49m\u001B[38;5;241;43m.\u001B[39;49m\u001B[43mraise_from\u001B[49m\u001B[43m(\u001B[49m\u001B[43me\u001B[49m\u001B[43m,\u001B[49m\u001B[43m \u001B[49m\u001B[38;5;28;43;01mNone\u001B[39;49;00m\u001B[43m)\u001B[49m\n\u001B[1;32m    450\u001B[0m \u001B[38;5;28;01mexcept\u001B[39;00m (SocketTimeout, BaseSSLError, SocketError) \u001B[38;5;28;01mas\u001B[39;00m e:\n",
      "File \u001B[0;32m<string>:3\u001B[0m, in \u001B[0;36mraise_from\u001B[0;34m(value, from_value)\u001B[0m\n",
      "File \u001B[0;32m~/Desktop/School/MSC/DS/Term 2/TM/Assignments/PS3/scraping/venv/lib/python3.8/site-packages/urllib3/connectionpool.py:444\u001B[0m, in \u001B[0;36mHTTPConnectionPool._make_request\u001B[0;34m(self, conn, method, url, timeout, chunked, **httplib_request_kw)\u001B[0m\n\u001B[1;32m    443\u001B[0m \u001B[38;5;28;01mtry\u001B[39;00m:\n\u001B[0;32m--> 444\u001B[0m     httplib_response \u001B[38;5;241m=\u001B[39m \u001B[43mconn\u001B[49m\u001B[38;5;241;43m.\u001B[39;49m\u001B[43mgetresponse\u001B[49m\u001B[43m(\u001B[49m\u001B[43m)\u001B[49m\n\u001B[1;32m    445\u001B[0m \u001B[38;5;28;01mexcept\u001B[39;00m \u001B[38;5;167;01mBaseException\u001B[39;00m \u001B[38;5;28;01mas\u001B[39;00m e:\n\u001B[1;32m    446\u001B[0m     \u001B[38;5;66;03m# Remove the TypeError from the exception chain in\u001B[39;00m\n\u001B[1;32m    447\u001B[0m     \u001B[38;5;66;03m# Python 3 (including for exceptions like SystemExit).\u001B[39;00m\n\u001B[1;32m    448\u001B[0m     \u001B[38;5;66;03m# Otherwise it looks like a bug in the code.\u001B[39;00m\n",
      "File \u001B[0;32m~/opt/anaconda3/lib/python3.8/http/client.py:1332\u001B[0m, in \u001B[0;36mHTTPConnection.getresponse\u001B[0;34m(self)\u001B[0m\n\u001B[1;32m   1331\u001B[0m \u001B[38;5;28;01mtry\u001B[39;00m:\n\u001B[0;32m-> 1332\u001B[0m     \u001B[43mresponse\u001B[49m\u001B[38;5;241;43m.\u001B[39;49m\u001B[43mbegin\u001B[49m\u001B[43m(\u001B[49m\u001B[43m)\u001B[49m\n\u001B[1;32m   1333\u001B[0m \u001B[38;5;28;01mexcept\u001B[39;00m \u001B[38;5;167;01mConnectionError\u001B[39;00m:\n",
      "File \u001B[0;32m~/opt/anaconda3/lib/python3.8/http/client.py:303\u001B[0m, in \u001B[0;36mHTTPResponse.begin\u001B[0;34m(self)\u001B[0m\n\u001B[1;32m    302\u001B[0m \u001B[38;5;28;01mwhile\u001B[39;00m \u001B[38;5;28;01mTrue\u001B[39;00m:\n\u001B[0;32m--> 303\u001B[0m     version, status, reason \u001B[38;5;241m=\u001B[39m \u001B[38;5;28;43mself\u001B[39;49m\u001B[38;5;241;43m.\u001B[39;49m\u001B[43m_read_status\u001B[49m\u001B[43m(\u001B[49m\u001B[43m)\u001B[49m\n\u001B[1;32m    304\u001B[0m     \u001B[38;5;28;01mif\u001B[39;00m status \u001B[38;5;241m!=\u001B[39m CONTINUE:\n",
      "File \u001B[0;32m~/opt/anaconda3/lib/python3.8/http/client.py:272\u001B[0m, in \u001B[0;36mHTTPResponse._read_status\u001B[0;34m(self)\u001B[0m\n\u001B[1;32m    269\u001B[0m \u001B[38;5;28;01mif\u001B[39;00m \u001B[38;5;129;01mnot\u001B[39;00m line:\n\u001B[1;32m    270\u001B[0m     \u001B[38;5;66;03m# Presumably, the server closed the connection before\u001B[39;00m\n\u001B[1;32m    271\u001B[0m     \u001B[38;5;66;03m# sending a valid response.\u001B[39;00m\n\u001B[0;32m--> 272\u001B[0m     \u001B[38;5;28;01mraise\u001B[39;00m RemoteDisconnected(\u001B[38;5;124m\"\u001B[39m\u001B[38;5;124mRemote end closed connection without\u001B[39m\u001B[38;5;124m\"\u001B[39m\n\u001B[1;32m    273\u001B[0m                              \u001B[38;5;124m\"\u001B[39m\u001B[38;5;124m response\u001B[39m\u001B[38;5;124m\"\u001B[39m)\n\u001B[1;32m    274\u001B[0m \u001B[38;5;28;01mtry\u001B[39;00m:\n",
      "\u001B[0;31mRemoteDisconnected\u001B[0m: Remote end closed connection without response",
      "\nDuring handling of the above exception, another exception occurred:\n",
      "\u001B[0;31mProtocolError\u001B[0m                             Traceback (most recent call last)",
      "Input \u001B[0;32mIn [147]\u001B[0m, in \u001B[0;36m<module>\u001B[0;34m\u001B[0m\n\u001B[1;32m      4\u001B[0m hotels \u001B[38;5;241m=\u001B[39m []\n\u001B[1;32m      5\u001B[0m \u001B[38;5;28;01mfor\u001B[39;00m i \u001B[38;5;129;01min\u001B[39;00m \u001B[38;5;28mrange\u001B[39m(\u001B[38;5;28mlen\u001B[39m(url_list)):\n\u001B[0;32m----> 6\u001B[0m     \u001B[43mdriver\u001B[49m\u001B[38;5;241;43m.\u001B[39;49m\u001B[43mget\u001B[49m\u001B[43m(\u001B[49m\u001B[43murl_list\u001B[49m\u001B[43m[\u001B[49m\u001B[43mi\u001B[49m\u001B[43m]\u001B[49m\u001B[43m)\u001B[49m\n\u001B[1;32m      7\u001B[0m     \u001B[38;5;66;03m# Wait for page to load:\u001B[39;00m\n\u001B[1;32m      8\u001B[0m     time\u001B[38;5;241m.\u001B[39msleep(\u001B[38;5;241m5\u001B[39m)\n",
      "File \u001B[0;32m~/Desktop/School/MSC/DS/Term 2/TM/Assignments/PS3/scraping/venv/lib/python3.8/site-packages/selenium/webdriver/remote/webdriver.py:436\u001B[0m, in \u001B[0;36mWebDriver.get\u001B[0;34m(self, url)\u001B[0m\n\u001B[1;32m    432\u001B[0m \u001B[38;5;28;01mdef\u001B[39;00m \u001B[38;5;21mget\u001B[39m(\u001B[38;5;28mself\u001B[39m, url: \u001B[38;5;28mstr\u001B[39m) \u001B[38;5;241m-\u001B[39m\u001B[38;5;241m>\u001B[39m \u001B[38;5;28;01mNone\u001B[39;00m:\n\u001B[1;32m    433\u001B[0m     \u001B[38;5;124;03m\"\"\"\u001B[39;00m\n\u001B[1;32m    434\u001B[0m \u001B[38;5;124;03m    Loads a web page in the current browser session.\u001B[39;00m\n\u001B[1;32m    435\u001B[0m \u001B[38;5;124;03m    \"\"\"\u001B[39;00m\n\u001B[0;32m--> 436\u001B[0m     \u001B[38;5;28;43mself\u001B[39;49m\u001B[38;5;241;43m.\u001B[39;49m\u001B[43mexecute\u001B[49m\u001B[43m(\u001B[49m\u001B[43mCommand\u001B[49m\u001B[38;5;241;43m.\u001B[39;49m\u001B[43mGET\u001B[49m\u001B[43m,\u001B[49m\u001B[43m \u001B[49m\u001B[43m{\u001B[49m\u001B[38;5;124;43m'\u001B[39;49m\u001B[38;5;124;43murl\u001B[39;49m\u001B[38;5;124;43m'\u001B[39;49m\u001B[43m:\u001B[49m\u001B[43m \u001B[49m\u001B[43murl\u001B[49m\u001B[43m}\u001B[49m\u001B[43m)\u001B[49m\n",
      "File \u001B[0;32m~/Desktop/School/MSC/DS/Term 2/TM/Assignments/PS3/scraping/venv/lib/python3.8/site-packages/selenium/webdriver/remote/webdriver.py:422\u001B[0m, in \u001B[0;36mWebDriver.execute\u001B[0;34m(self, driver_command, params)\u001B[0m\n\u001B[1;32m    419\u001B[0m         params[\u001B[38;5;124m'\u001B[39m\u001B[38;5;124msessionId\u001B[39m\u001B[38;5;124m'\u001B[39m] \u001B[38;5;241m=\u001B[39m \u001B[38;5;28mself\u001B[39m\u001B[38;5;241m.\u001B[39msession_id\n\u001B[1;32m    421\u001B[0m params \u001B[38;5;241m=\u001B[39m \u001B[38;5;28mself\u001B[39m\u001B[38;5;241m.\u001B[39m_wrap_value(params)\n\u001B[0;32m--> 422\u001B[0m response \u001B[38;5;241m=\u001B[39m \u001B[38;5;28;43mself\u001B[39;49m\u001B[38;5;241;43m.\u001B[39;49m\u001B[43mcommand_executor\u001B[49m\u001B[38;5;241;43m.\u001B[39;49m\u001B[43mexecute\u001B[49m\u001B[43m(\u001B[49m\u001B[43mdriver_command\u001B[49m\u001B[43m,\u001B[49m\u001B[43m \u001B[49m\u001B[43mparams\u001B[49m\u001B[43m)\u001B[49m\n\u001B[1;32m    423\u001B[0m \u001B[38;5;28;01mif\u001B[39;00m response:\n\u001B[1;32m    424\u001B[0m     \u001B[38;5;28mself\u001B[39m\u001B[38;5;241m.\u001B[39merror_handler\u001B[38;5;241m.\u001B[39mcheck_response(response)\n",
      "File \u001B[0;32m~/Desktop/School/MSC/DS/Term 2/TM/Assignments/PS3/scraping/venv/lib/python3.8/site-packages/selenium/webdriver/remote/remote_connection.py:421\u001B[0m, in \u001B[0;36mRemoteConnection.execute\u001B[0;34m(self, command, params)\u001B[0m\n\u001B[1;32m    419\u001B[0m data \u001B[38;5;241m=\u001B[39m utils\u001B[38;5;241m.\u001B[39mdump_json(params)\n\u001B[1;32m    420\u001B[0m url \u001B[38;5;241m=\u001B[39m \u001B[38;5;124mf\u001B[39m\u001B[38;5;124m\"\u001B[39m\u001B[38;5;132;01m{\u001B[39;00m\u001B[38;5;28mself\u001B[39m\u001B[38;5;241m.\u001B[39m_url\u001B[38;5;132;01m}\u001B[39;00m\u001B[38;5;132;01m{\u001B[39;00mpath\u001B[38;5;132;01m}\u001B[39;00m\u001B[38;5;124m\"\u001B[39m\n\u001B[0;32m--> 421\u001B[0m \u001B[38;5;28;01mreturn\u001B[39;00m \u001B[38;5;28;43mself\u001B[39;49m\u001B[38;5;241;43m.\u001B[39;49m\u001B[43m_request\u001B[49m\u001B[43m(\u001B[49m\u001B[43mcommand_info\u001B[49m\u001B[43m[\u001B[49m\u001B[38;5;241;43m0\u001B[39;49m\u001B[43m]\u001B[49m\u001B[43m,\u001B[49m\u001B[43m \u001B[49m\u001B[43murl\u001B[49m\u001B[43m,\u001B[49m\u001B[43m \u001B[49m\u001B[43mbody\u001B[49m\u001B[38;5;241;43m=\u001B[39;49m\u001B[43mdata\u001B[49m\u001B[43m)\u001B[49m\n",
      "File \u001B[0;32m~/Desktop/School/MSC/DS/Term 2/TM/Assignments/PS3/scraping/venv/lib/python3.8/site-packages/selenium/webdriver/remote/remote_connection.py:443\u001B[0m, in \u001B[0;36mRemoteConnection._request\u001B[0;34m(self, method, url, body)\u001B[0m\n\u001B[1;32m    440\u001B[0m     body \u001B[38;5;241m=\u001B[39m \u001B[38;5;28;01mNone\u001B[39;00m\n\u001B[1;32m    442\u001B[0m \u001B[38;5;28;01mif\u001B[39;00m \u001B[38;5;28mself\u001B[39m\u001B[38;5;241m.\u001B[39mkeep_alive:\n\u001B[0;32m--> 443\u001B[0m     resp \u001B[38;5;241m=\u001B[39m \u001B[38;5;28;43mself\u001B[39;49m\u001B[38;5;241;43m.\u001B[39;49m\u001B[43m_conn\u001B[49m\u001B[38;5;241;43m.\u001B[39;49m\u001B[43mrequest\u001B[49m\u001B[43m(\u001B[49m\u001B[43mmethod\u001B[49m\u001B[43m,\u001B[49m\u001B[43m \u001B[49m\u001B[43murl\u001B[49m\u001B[43m,\u001B[49m\u001B[43m \u001B[49m\u001B[43mbody\u001B[49m\u001B[38;5;241;43m=\u001B[39;49m\u001B[43mbody\u001B[49m\u001B[43m,\u001B[49m\u001B[43m \u001B[49m\u001B[43mheaders\u001B[49m\u001B[38;5;241;43m=\u001B[39;49m\u001B[43mheaders\u001B[49m\u001B[43m)\u001B[49m\n\u001B[1;32m    444\u001B[0m     statuscode \u001B[38;5;241m=\u001B[39m resp\u001B[38;5;241m.\u001B[39mstatus\n\u001B[1;32m    445\u001B[0m \u001B[38;5;28;01melse\u001B[39;00m:\n",
      "File \u001B[0;32m~/Desktop/School/MSC/DS/Term 2/TM/Assignments/PS3/scraping/venv/lib/python3.8/site-packages/urllib3/request.py:78\u001B[0m, in \u001B[0;36mRequestMethods.request\u001B[0;34m(self, method, url, fields, headers, **urlopen_kw)\u001B[0m\n\u001B[1;32m     74\u001B[0m     \u001B[38;5;28;01mreturn\u001B[39;00m \u001B[38;5;28mself\u001B[39m\u001B[38;5;241m.\u001B[39mrequest_encode_url(\n\u001B[1;32m     75\u001B[0m         method, url, fields\u001B[38;5;241m=\u001B[39mfields, headers\u001B[38;5;241m=\u001B[39mheaders, \u001B[38;5;241m*\u001B[39m\u001B[38;5;241m*\u001B[39murlopen_kw\n\u001B[1;32m     76\u001B[0m     )\n\u001B[1;32m     77\u001B[0m \u001B[38;5;28;01melse\u001B[39;00m:\n\u001B[0;32m---> 78\u001B[0m     \u001B[38;5;28;01mreturn\u001B[39;00m \u001B[38;5;28;43mself\u001B[39;49m\u001B[38;5;241;43m.\u001B[39;49m\u001B[43mrequest_encode_body\u001B[49m\u001B[43m(\u001B[49m\n\u001B[1;32m     79\u001B[0m \u001B[43m        \u001B[49m\u001B[43mmethod\u001B[49m\u001B[43m,\u001B[49m\u001B[43m \u001B[49m\u001B[43murl\u001B[49m\u001B[43m,\u001B[49m\u001B[43m \u001B[49m\u001B[43mfields\u001B[49m\u001B[38;5;241;43m=\u001B[39;49m\u001B[43mfields\u001B[49m\u001B[43m,\u001B[49m\u001B[43m \u001B[49m\u001B[43mheaders\u001B[49m\u001B[38;5;241;43m=\u001B[39;49m\u001B[43mheaders\u001B[49m\u001B[43m,\u001B[49m\u001B[43m \u001B[49m\u001B[38;5;241;43m*\u001B[39;49m\u001B[38;5;241;43m*\u001B[39;49m\u001B[43murlopen_kw\u001B[49m\n\u001B[1;32m     80\u001B[0m \u001B[43m    \u001B[49m\u001B[43m)\u001B[49m\n",
      "File \u001B[0;32m~/Desktop/School/MSC/DS/Term 2/TM/Assignments/PS3/scraping/venv/lib/python3.8/site-packages/urllib3/request.py:170\u001B[0m, in \u001B[0;36mRequestMethods.request_encode_body\u001B[0;34m(self, method, url, fields, headers, encode_multipart, multipart_boundary, **urlopen_kw)\u001B[0m\n\u001B[1;32m    167\u001B[0m extra_kw[\u001B[38;5;124m\"\u001B[39m\u001B[38;5;124mheaders\u001B[39m\u001B[38;5;124m\"\u001B[39m]\u001B[38;5;241m.\u001B[39mupdate(headers)\n\u001B[1;32m    168\u001B[0m extra_kw\u001B[38;5;241m.\u001B[39mupdate(urlopen_kw)\n\u001B[0;32m--> 170\u001B[0m \u001B[38;5;28;01mreturn\u001B[39;00m \u001B[38;5;28;43mself\u001B[39;49m\u001B[38;5;241;43m.\u001B[39;49m\u001B[43murlopen\u001B[49m\u001B[43m(\u001B[49m\u001B[43mmethod\u001B[49m\u001B[43m,\u001B[49m\u001B[43m \u001B[49m\u001B[43murl\u001B[49m\u001B[43m,\u001B[49m\u001B[43m \u001B[49m\u001B[38;5;241;43m*\u001B[39;49m\u001B[38;5;241;43m*\u001B[39;49m\u001B[43mextra_kw\u001B[49m\u001B[43m)\u001B[49m\n",
      "File \u001B[0;32m~/Desktop/School/MSC/DS/Term 2/TM/Assignments/PS3/scraping/venv/lib/python3.8/site-packages/urllib3/poolmanager.py:375\u001B[0m, in \u001B[0;36mPoolManager.urlopen\u001B[0;34m(self, method, url, redirect, **kw)\u001B[0m\n\u001B[1;32m    373\u001B[0m     response \u001B[38;5;241m=\u001B[39m conn\u001B[38;5;241m.\u001B[39murlopen(method, url, \u001B[38;5;241m*\u001B[39m\u001B[38;5;241m*\u001B[39mkw)\n\u001B[1;32m    374\u001B[0m \u001B[38;5;28;01melse\u001B[39;00m:\n\u001B[0;32m--> 375\u001B[0m     response \u001B[38;5;241m=\u001B[39m \u001B[43mconn\u001B[49m\u001B[38;5;241;43m.\u001B[39;49m\u001B[43murlopen\u001B[49m\u001B[43m(\u001B[49m\u001B[43mmethod\u001B[49m\u001B[43m,\u001B[49m\u001B[43m \u001B[49m\u001B[43mu\u001B[49m\u001B[38;5;241;43m.\u001B[39;49m\u001B[43mrequest_uri\u001B[49m\u001B[43m,\u001B[49m\u001B[43m \u001B[49m\u001B[38;5;241;43m*\u001B[39;49m\u001B[38;5;241;43m*\u001B[39;49m\u001B[43mkw\u001B[49m\u001B[43m)\u001B[49m\n\u001B[1;32m    377\u001B[0m redirect_location \u001B[38;5;241m=\u001B[39m redirect \u001B[38;5;129;01mand\u001B[39;00m response\u001B[38;5;241m.\u001B[39mget_redirect_location()\n\u001B[1;32m    378\u001B[0m \u001B[38;5;28;01mif\u001B[39;00m \u001B[38;5;129;01mnot\u001B[39;00m redirect_location:\n",
      "File \u001B[0;32m~/Desktop/School/MSC/DS/Term 2/TM/Assignments/PS3/scraping/venv/lib/python3.8/site-packages/urllib3/connectionpool.py:785\u001B[0m, in \u001B[0;36mHTTPConnectionPool.urlopen\u001B[0;34m(self, method, url, body, headers, retries, redirect, assert_same_host, timeout, pool_timeout, release_conn, chunked, body_pos, **response_kw)\u001B[0m\n\u001B[1;32m    782\u001B[0m \u001B[38;5;28;01melif\u001B[39;00m \u001B[38;5;28misinstance\u001B[39m(e, (SocketError, HTTPException)):\n\u001B[1;32m    783\u001B[0m     e \u001B[38;5;241m=\u001B[39m ProtocolError(\u001B[38;5;124m\"\u001B[39m\u001B[38;5;124mConnection aborted.\u001B[39m\u001B[38;5;124m\"\u001B[39m, e)\n\u001B[0;32m--> 785\u001B[0m retries \u001B[38;5;241m=\u001B[39m \u001B[43mretries\u001B[49m\u001B[38;5;241;43m.\u001B[39;49m\u001B[43mincrement\u001B[49m\u001B[43m(\u001B[49m\n\u001B[1;32m    786\u001B[0m \u001B[43m    \u001B[49m\u001B[43mmethod\u001B[49m\u001B[43m,\u001B[49m\u001B[43m \u001B[49m\u001B[43murl\u001B[49m\u001B[43m,\u001B[49m\u001B[43m \u001B[49m\u001B[43merror\u001B[49m\u001B[38;5;241;43m=\u001B[39;49m\u001B[43me\u001B[49m\u001B[43m,\u001B[49m\u001B[43m \u001B[49m\u001B[43m_pool\u001B[49m\u001B[38;5;241;43m=\u001B[39;49m\u001B[38;5;28;43mself\u001B[39;49m\u001B[43m,\u001B[49m\u001B[43m \u001B[49m\u001B[43m_stacktrace\u001B[49m\u001B[38;5;241;43m=\u001B[39;49m\u001B[43msys\u001B[49m\u001B[38;5;241;43m.\u001B[39;49m\u001B[43mexc_info\u001B[49m\u001B[43m(\u001B[49m\u001B[43m)\u001B[49m\u001B[43m[\u001B[49m\u001B[38;5;241;43m2\u001B[39;49m\u001B[43m]\u001B[49m\n\u001B[1;32m    787\u001B[0m \u001B[43m\u001B[49m\u001B[43m)\u001B[49m\n\u001B[1;32m    788\u001B[0m retries\u001B[38;5;241m.\u001B[39msleep()\n\u001B[1;32m    790\u001B[0m \u001B[38;5;66;03m# Keep track of the error for the retry warning.\u001B[39;00m\n",
      "File \u001B[0;32m~/Desktop/School/MSC/DS/Term 2/TM/Assignments/PS3/scraping/venv/lib/python3.8/site-packages/urllib3/util/retry.py:550\u001B[0m, in \u001B[0;36mRetry.increment\u001B[0;34m(self, method, url, response, error, _pool, _stacktrace)\u001B[0m\n\u001B[1;32m    547\u001B[0m \u001B[38;5;28;01melif\u001B[39;00m error \u001B[38;5;129;01mand\u001B[39;00m \u001B[38;5;28mself\u001B[39m\u001B[38;5;241m.\u001B[39m_is_read_error(error):\n\u001B[1;32m    548\u001B[0m     \u001B[38;5;66;03m# Read retry?\u001B[39;00m\n\u001B[1;32m    549\u001B[0m     \u001B[38;5;28;01mif\u001B[39;00m read \u001B[38;5;129;01mis\u001B[39;00m \u001B[38;5;28;01mFalse\u001B[39;00m \u001B[38;5;129;01mor\u001B[39;00m \u001B[38;5;129;01mnot\u001B[39;00m \u001B[38;5;28mself\u001B[39m\u001B[38;5;241m.\u001B[39m_is_method_retryable(method):\n\u001B[0;32m--> 550\u001B[0m         \u001B[38;5;28;01mraise\u001B[39;00m \u001B[43msix\u001B[49m\u001B[38;5;241;43m.\u001B[39;49m\u001B[43mreraise\u001B[49m\u001B[43m(\u001B[49m\u001B[38;5;28;43mtype\u001B[39;49m\u001B[43m(\u001B[49m\u001B[43merror\u001B[49m\u001B[43m)\u001B[49m\u001B[43m,\u001B[49m\u001B[43m \u001B[49m\u001B[43merror\u001B[49m\u001B[43m,\u001B[49m\u001B[43m \u001B[49m\u001B[43m_stacktrace\u001B[49m\u001B[43m)\u001B[49m\n\u001B[1;32m    551\u001B[0m     \u001B[38;5;28;01melif\u001B[39;00m read \u001B[38;5;129;01mis\u001B[39;00m \u001B[38;5;129;01mnot\u001B[39;00m \u001B[38;5;28;01mNone\u001B[39;00m:\n\u001B[1;32m    552\u001B[0m         read \u001B[38;5;241m-\u001B[39m\u001B[38;5;241m=\u001B[39m \u001B[38;5;241m1\u001B[39m\n",
      "File \u001B[0;32m~/Desktop/School/MSC/DS/Term 2/TM/Assignments/PS3/scraping/venv/lib/python3.8/site-packages/urllib3/packages/six.py:769\u001B[0m, in \u001B[0;36mreraise\u001B[0;34m(tp, value, tb)\u001B[0m\n\u001B[1;32m    767\u001B[0m         value \u001B[38;5;241m=\u001B[39m tp()\n\u001B[1;32m    768\u001B[0m     \u001B[38;5;28;01mif\u001B[39;00m value\u001B[38;5;241m.\u001B[39m__traceback__ \u001B[38;5;129;01mis\u001B[39;00m \u001B[38;5;129;01mnot\u001B[39;00m tb:\n\u001B[0;32m--> 769\u001B[0m         \u001B[38;5;28;01mraise\u001B[39;00m value\u001B[38;5;241m.\u001B[39mwith_traceback(tb)\n\u001B[1;32m    770\u001B[0m     \u001B[38;5;28;01mraise\u001B[39;00m value\n\u001B[1;32m    771\u001B[0m \u001B[38;5;28;01mfinally\u001B[39;00m:\n",
      "File \u001B[0;32m~/Desktop/School/MSC/DS/Term 2/TM/Assignments/PS3/scraping/venv/lib/python3.8/site-packages/urllib3/connectionpool.py:703\u001B[0m, in \u001B[0;36mHTTPConnectionPool.urlopen\u001B[0;34m(self, method, url, body, headers, retries, redirect, assert_same_host, timeout, pool_timeout, release_conn, chunked, body_pos, **response_kw)\u001B[0m\n\u001B[1;32m    700\u001B[0m     \u001B[38;5;28mself\u001B[39m\u001B[38;5;241m.\u001B[39m_prepare_proxy(conn)\n\u001B[1;32m    702\u001B[0m \u001B[38;5;66;03m# Make the request on the httplib connection object.\u001B[39;00m\n\u001B[0;32m--> 703\u001B[0m httplib_response \u001B[38;5;241m=\u001B[39m \u001B[38;5;28;43mself\u001B[39;49m\u001B[38;5;241;43m.\u001B[39;49m\u001B[43m_make_request\u001B[49m\u001B[43m(\u001B[49m\n\u001B[1;32m    704\u001B[0m \u001B[43m    \u001B[49m\u001B[43mconn\u001B[49m\u001B[43m,\u001B[49m\n\u001B[1;32m    705\u001B[0m \u001B[43m    \u001B[49m\u001B[43mmethod\u001B[49m\u001B[43m,\u001B[49m\n\u001B[1;32m    706\u001B[0m \u001B[43m    \u001B[49m\u001B[43murl\u001B[49m\u001B[43m,\u001B[49m\n\u001B[1;32m    707\u001B[0m \u001B[43m    \u001B[49m\u001B[43mtimeout\u001B[49m\u001B[38;5;241;43m=\u001B[39;49m\u001B[43mtimeout_obj\u001B[49m\u001B[43m,\u001B[49m\n\u001B[1;32m    708\u001B[0m \u001B[43m    \u001B[49m\u001B[43mbody\u001B[49m\u001B[38;5;241;43m=\u001B[39;49m\u001B[43mbody\u001B[49m\u001B[43m,\u001B[49m\n\u001B[1;32m    709\u001B[0m \u001B[43m    \u001B[49m\u001B[43mheaders\u001B[49m\u001B[38;5;241;43m=\u001B[39;49m\u001B[43mheaders\u001B[49m\u001B[43m,\u001B[49m\n\u001B[1;32m    710\u001B[0m \u001B[43m    \u001B[49m\u001B[43mchunked\u001B[49m\u001B[38;5;241;43m=\u001B[39;49m\u001B[43mchunked\u001B[49m\u001B[43m,\u001B[49m\n\u001B[1;32m    711\u001B[0m \u001B[43m\u001B[49m\u001B[43m)\u001B[49m\n\u001B[1;32m    713\u001B[0m \u001B[38;5;66;03m# If we're going to release the connection in ``finally:``, then\u001B[39;00m\n\u001B[1;32m    714\u001B[0m \u001B[38;5;66;03m# the response doesn't need to know about the connection. Otherwise\u001B[39;00m\n\u001B[1;32m    715\u001B[0m \u001B[38;5;66;03m# it will also try to release it and we'll have a double-release\u001B[39;00m\n\u001B[1;32m    716\u001B[0m \u001B[38;5;66;03m# mess.\u001B[39;00m\n\u001B[1;32m    717\u001B[0m response_conn \u001B[38;5;241m=\u001B[39m conn \u001B[38;5;28;01mif\u001B[39;00m \u001B[38;5;129;01mnot\u001B[39;00m release_conn \u001B[38;5;28;01melse\u001B[39;00m \u001B[38;5;28;01mNone\u001B[39;00m\n",
      "File \u001B[0;32m~/Desktop/School/MSC/DS/Term 2/TM/Assignments/PS3/scraping/venv/lib/python3.8/site-packages/urllib3/connectionpool.py:449\u001B[0m, in \u001B[0;36mHTTPConnectionPool._make_request\u001B[0;34m(self, conn, method, url, timeout, chunked, **httplib_request_kw)\u001B[0m\n\u001B[1;32m    444\u001B[0m             httplib_response \u001B[38;5;241m=\u001B[39m conn\u001B[38;5;241m.\u001B[39mgetresponse()\n\u001B[1;32m    445\u001B[0m         \u001B[38;5;28;01mexcept\u001B[39;00m \u001B[38;5;167;01mBaseException\u001B[39;00m \u001B[38;5;28;01mas\u001B[39;00m e:\n\u001B[1;32m    446\u001B[0m             \u001B[38;5;66;03m# Remove the TypeError from the exception chain in\u001B[39;00m\n\u001B[1;32m    447\u001B[0m             \u001B[38;5;66;03m# Python 3 (including for exceptions like SystemExit).\u001B[39;00m\n\u001B[1;32m    448\u001B[0m             \u001B[38;5;66;03m# Otherwise it looks like a bug in the code.\u001B[39;00m\n\u001B[0;32m--> 449\u001B[0m             \u001B[43msix\u001B[49m\u001B[38;5;241;43m.\u001B[39;49m\u001B[43mraise_from\u001B[49m\u001B[43m(\u001B[49m\u001B[43me\u001B[49m\u001B[43m,\u001B[49m\u001B[43m \u001B[49m\u001B[38;5;28;43;01mNone\u001B[39;49;00m\u001B[43m)\u001B[49m\n\u001B[1;32m    450\u001B[0m \u001B[38;5;28;01mexcept\u001B[39;00m (SocketTimeout, BaseSSLError, SocketError) \u001B[38;5;28;01mas\u001B[39;00m e:\n\u001B[1;32m    451\u001B[0m     \u001B[38;5;28mself\u001B[39m\u001B[38;5;241m.\u001B[39m_raise_timeout(err\u001B[38;5;241m=\u001B[39me, url\u001B[38;5;241m=\u001B[39murl, timeout_value\u001B[38;5;241m=\u001B[39mread_timeout)\n",
      "File \u001B[0;32m<string>:3\u001B[0m, in \u001B[0;36mraise_from\u001B[0;34m(value, from_value)\u001B[0m\n",
      "File \u001B[0;32m~/Desktop/School/MSC/DS/Term 2/TM/Assignments/PS3/scraping/venv/lib/python3.8/site-packages/urllib3/connectionpool.py:444\u001B[0m, in \u001B[0;36mHTTPConnectionPool._make_request\u001B[0;34m(self, conn, method, url, timeout, chunked, **httplib_request_kw)\u001B[0m\n\u001B[1;32m    441\u001B[0m \u001B[38;5;28;01mexcept\u001B[39;00m \u001B[38;5;167;01mTypeError\u001B[39;00m:\n\u001B[1;32m    442\u001B[0m     \u001B[38;5;66;03m# Python 3\u001B[39;00m\n\u001B[1;32m    443\u001B[0m     \u001B[38;5;28;01mtry\u001B[39;00m:\n\u001B[0;32m--> 444\u001B[0m         httplib_response \u001B[38;5;241m=\u001B[39m \u001B[43mconn\u001B[49m\u001B[38;5;241;43m.\u001B[39;49m\u001B[43mgetresponse\u001B[49m\u001B[43m(\u001B[49m\u001B[43m)\u001B[49m\n\u001B[1;32m    445\u001B[0m     \u001B[38;5;28;01mexcept\u001B[39;00m \u001B[38;5;167;01mBaseException\u001B[39;00m \u001B[38;5;28;01mas\u001B[39;00m e:\n\u001B[1;32m    446\u001B[0m         \u001B[38;5;66;03m# Remove the TypeError from the exception chain in\u001B[39;00m\n\u001B[1;32m    447\u001B[0m         \u001B[38;5;66;03m# Python 3 (including for exceptions like SystemExit).\u001B[39;00m\n\u001B[1;32m    448\u001B[0m         \u001B[38;5;66;03m# Otherwise it looks like a bug in the code.\u001B[39;00m\n\u001B[1;32m    449\u001B[0m         six\u001B[38;5;241m.\u001B[39mraise_from(e, \u001B[38;5;28;01mNone\u001B[39;00m)\n",
      "File \u001B[0;32m~/opt/anaconda3/lib/python3.8/http/client.py:1332\u001B[0m, in \u001B[0;36mHTTPConnection.getresponse\u001B[0;34m(self)\u001B[0m\n\u001B[1;32m   1330\u001B[0m \u001B[38;5;28;01mtry\u001B[39;00m:\n\u001B[1;32m   1331\u001B[0m     \u001B[38;5;28;01mtry\u001B[39;00m:\n\u001B[0;32m-> 1332\u001B[0m         \u001B[43mresponse\u001B[49m\u001B[38;5;241;43m.\u001B[39;49m\u001B[43mbegin\u001B[49m\u001B[43m(\u001B[49m\u001B[43m)\u001B[49m\n\u001B[1;32m   1333\u001B[0m     \u001B[38;5;28;01mexcept\u001B[39;00m \u001B[38;5;167;01mConnectionError\u001B[39;00m:\n\u001B[1;32m   1334\u001B[0m         \u001B[38;5;28mself\u001B[39m\u001B[38;5;241m.\u001B[39mclose()\n",
      "File \u001B[0;32m~/opt/anaconda3/lib/python3.8/http/client.py:303\u001B[0m, in \u001B[0;36mHTTPResponse.begin\u001B[0;34m(self)\u001B[0m\n\u001B[1;32m    301\u001B[0m \u001B[38;5;66;03m# read until we get a non-100 response\u001B[39;00m\n\u001B[1;32m    302\u001B[0m \u001B[38;5;28;01mwhile\u001B[39;00m \u001B[38;5;28;01mTrue\u001B[39;00m:\n\u001B[0;32m--> 303\u001B[0m     version, status, reason \u001B[38;5;241m=\u001B[39m \u001B[38;5;28;43mself\u001B[39;49m\u001B[38;5;241;43m.\u001B[39;49m\u001B[43m_read_status\u001B[49m\u001B[43m(\u001B[49m\u001B[43m)\u001B[49m\n\u001B[1;32m    304\u001B[0m     \u001B[38;5;28;01mif\u001B[39;00m status \u001B[38;5;241m!=\u001B[39m CONTINUE:\n\u001B[1;32m    305\u001B[0m         \u001B[38;5;28;01mbreak\u001B[39;00m\n",
      "File \u001B[0;32m~/opt/anaconda3/lib/python3.8/http/client.py:272\u001B[0m, in \u001B[0;36mHTTPResponse._read_status\u001B[0;34m(self)\u001B[0m\n\u001B[1;32m    268\u001B[0m     \u001B[38;5;28mprint\u001B[39m(\u001B[38;5;124m\"\u001B[39m\u001B[38;5;124mreply:\u001B[39m\u001B[38;5;124m\"\u001B[39m, \u001B[38;5;28mrepr\u001B[39m(line))\n\u001B[1;32m    269\u001B[0m \u001B[38;5;28;01mif\u001B[39;00m \u001B[38;5;129;01mnot\u001B[39;00m line:\n\u001B[1;32m    270\u001B[0m     \u001B[38;5;66;03m# Presumably, the server closed the connection before\u001B[39;00m\n\u001B[1;32m    271\u001B[0m     \u001B[38;5;66;03m# sending a valid response.\u001B[39;00m\n\u001B[0;32m--> 272\u001B[0m     \u001B[38;5;28;01mraise\u001B[39;00m RemoteDisconnected(\u001B[38;5;124m\"\u001B[39m\u001B[38;5;124mRemote end closed connection without\u001B[39m\u001B[38;5;124m\"\u001B[39m\n\u001B[1;32m    273\u001B[0m                              \u001B[38;5;124m\"\u001B[39m\u001B[38;5;124m response\u001B[39m\u001B[38;5;124m\"\u001B[39m)\n\u001B[1;32m    274\u001B[0m \u001B[38;5;28;01mtry\u001B[39;00m:\n\u001B[1;32m    275\u001B[0m     version, status, reason \u001B[38;5;241m=\u001B[39m line\u001B[38;5;241m.\u001B[39msplit(\u001B[38;5;28;01mNone\u001B[39;00m, \u001B[38;5;241m2\u001B[39m)\n",
      "\u001B[0;31mProtocolError\u001B[0m: ('Connection aborted.', RemoteDisconnected('Remote end closed connection without response'))"
     ]
    }
   ],
   "source": [
    "PATH = \"/Users/gnlm/Desktop/School/MSC/DS/Term 2/TM/Assignments/PS3/scraping/chromedriver\"\n",
    "driver = webdriver.Chrome(PATH)\n",
    "\n",
    "hotels = []\n",
    "for i in range(len(url_list)):\n",
    "    driver.get(url_list[i])\n",
    "    # Wait for page to load:\n",
    "    time.sleep(5)\n",
    "\n",
    "    # Accept cookies:\n",
    "    if len(driver.find_elements(By.ID,\n",
    "                                \"onetrust-accept-btn-handler\")) != 0: #Check cookies button is present!\n",
    "        cookies = driver.find_elements(By.ID,\n",
    "                                    \"onetrust-accept-btn-handler\")\n",
    "        cookies[0].click()\n",
    "    else:\n",
    "        pass\n",
    "    time.sleep(2)\n",
    "\n",
    "    # Get number of pages:\n",
    "    num_pages = int(get_number_pages(driver))\n",
    "    print(num_pages)\n",
    "\n",
    "    day_list = []\n",
    "    for j in range(0,num_pages):\n",
    "        pagebuttons=driver.find_elements(By.XPATH,\n",
    "            '//button[text() and @class=\"_4310f7077 _fd15ae127\"]')\n",
    "        # Get property cards:\n",
    "\n",
    "        property_card = driver.find_elements(By.XPATH,\n",
    "                                         '//div[@data-testid=\"property-card\"]')\n",
    "\n",
    "        property = [item.text for item in property_card]\n",
    "\n",
    "\n",
    "        df = pd.DataFrame(\n",
    "        {'hotel_list': property,\n",
    "         'day':i\n",
    "        })\n",
    "\n",
    "        day_list.append(df)\n",
    "        if j<7:\n",
    "             pagebuttons[j+1].click()\n",
    "             time.sleep(4)\n",
    "        elif j == num_pages-1:\n",
    "            break\n",
    "        else:\n",
    "            pagebuttons[6].click()\n",
    "            time.sleep(4)\n",
    "\n",
    "    hotels.append(day_list)\n"
   ],
   "metadata": {
    "collapsed": false,
    "pycharm": {
     "name": "#%%\n"
    }
   }
  },
  {
   "cell_type": "code",
   "execution_count": 127,
   "outputs": [
    {
     "data": {
      "text/plain": "True"
     },
     "execution_count": 127,
     "metadata": {},
     "output_type": "execute_result"
    }
   ],
   "source": [
    "len(hotels) == len(url_list) # Check we have looped through all dates: TRUE"
   ],
   "metadata": {
    "collapsed": false,
    "pycharm": {
     "name": "#%%\n"
    }
   }
  },
  {
   "cell_type": "markdown",
   "source": [
    "## Covert list of df's to a df:"
   ],
   "metadata": {
    "collapsed": false,
    "pycharm": {
     "name": "#%% md\n"
    }
   }
  },
  {
   "cell_type": "code",
   "execution_count": 27,
   "outputs": [],
   "source": [
    "# Function to convert list of df to df:\n",
    "def df_list(df):\n",
    "    return pd.concat(df)"
   ],
   "metadata": {
    "collapsed": false,
    "pycharm": {
     "name": "#%%\n"
    }
   }
  },
  {
   "cell_type": "code",
   "execution_count": 116,
   "outputs": [
    {
     "data": {
      "text/plain": "                                           hotel_list  day\n0   Opens in new window\\nActa Splendid\\nOpens in n...    0\n1   Breakfast included\\nOpens in new window\\nRambl...    0\n2   Opens in new window\\nBoutique Hotel H10 Montca...    0\n3   Opens in new window\\nCatalonia Park Güell\\nOpe...    0\n4   Opens in new window\\nHotel Best Aranea\\nOpens ...    0\n..                                                ...  ...\n24  Opens in new window\\nUnique Rentals - Placa Ca...   13\n0   Opens in new window\\nESPASERIA\\nOpens in new w...   13\n1   Opens in new window\\nSleep on a Sailing Boat B...   13\n2   Opens in new window\\nCozy Stylish Apartment, P...   13\n3   Opens in new window\\nUnique Rentals-Seafront L...   13\n\n[10891 rows x 2 columns]",
      "text/html": "<div>\n<style scoped>\n    .dataframe tbody tr th:only-of-type {\n        vertical-align: middle;\n    }\n\n    .dataframe tbody tr th {\n        vertical-align: top;\n    }\n\n    .dataframe thead th {\n        text-align: right;\n    }\n</style>\n<table border=\"1\" class=\"dataframe\">\n  <thead>\n    <tr style=\"text-align: right;\">\n      <th></th>\n      <th>hotel_list</th>\n      <th>day</th>\n    </tr>\n  </thead>\n  <tbody>\n    <tr>\n      <th>0</th>\n      <td>Opens in new window\\nActa Splendid\\nOpens in n...</td>\n      <td>0</td>\n    </tr>\n    <tr>\n      <th>1</th>\n      <td>Breakfast included\\nOpens in new window\\nRambl...</td>\n      <td>0</td>\n    </tr>\n    <tr>\n      <th>2</th>\n      <td>Opens in new window\\nBoutique Hotel H10 Montca...</td>\n      <td>0</td>\n    </tr>\n    <tr>\n      <th>3</th>\n      <td>Opens in new window\\nCatalonia Park Güell\\nOpe...</td>\n      <td>0</td>\n    </tr>\n    <tr>\n      <th>4</th>\n      <td>Opens in new window\\nHotel Best Aranea\\nOpens ...</td>\n      <td>0</td>\n    </tr>\n    <tr>\n      <th>...</th>\n      <td>...</td>\n      <td>...</td>\n    </tr>\n    <tr>\n      <th>24</th>\n      <td>Opens in new window\\nUnique Rentals - Placa Ca...</td>\n      <td>13</td>\n    </tr>\n    <tr>\n      <th>0</th>\n      <td>Opens in new window\\nESPASERIA\\nOpens in new w...</td>\n      <td>13</td>\n    </tr>\n    <tr>\n      <th>1</th>\n      <td>Opens in new window\\nSleep on a Sailing Boat B...</td>\n      <td>13</td>\n    </tr>\n    <tr>\n      <th>2</th>\n      <td>Opens in new window\\nCozy Stylish Apartment, P...</td>\n      <td>13</td>\n    </tr>\n    <tr>\n      <th>3</th>\n      <td>Opens in new window\\nUnique Rentals-Seafront L...</td>\n      <td>13</td>\n    </tr>\n  </tbody>\n</table>\n<p>10891 rows × 2 columns</p>\n</div>"
     },
     "execution_count": 116,
     "metadata": {},
     "output_type": "execute_result"
    }
   ],
   "source": [
    "# Apply fucntion to the list of df's we obtained:\n",
    "hotel_df = [df_list(item) for item in hotels]\n",
    "hotel_df = df_list(hotel_df)\n",
    "hotel_df"
   ],
   "metadata": {
    "collapsed": false,
    "pycharm": {
     "name": "#%%\n"
    }
   }
  },
  {
   "cell_type": "markdown",
   "source": [
    "## Reset index:"
   ],
   "metadata": {
    "collapsed": false,
    "pycharm": {
     "name": "#%% md\n"
    }
   }
  },
  {
   "cell_type": "code",
   "execution_count": 117,
   "outputs": [],
   "source": [
    "hotel_df = hotel_df.reset_index()\n",
    "del hotel_df['index']"
   ],
   "metadata": {
    "collapsed": false,
    "pycharm": {
     "name": "#%%\n"
    }
   }
  },
  {
   "cell_type": "markdown",
   "source": [
    "## Extract relevant features:"
   ],
   "metadata": {
    "collapsed": false,
    "pycharm": {
     "name": "#%% md\n"
    }
   }
  },
  {
   "cell_type": "code",
   "execution_count": 118,
   "outputs": [
    {
     "name": "stderr",
     "output_type": "stream",
     "text": [
      "/var/folders/z1/06t5y7z11fz24b5p636_mqnr0000gn/T/ipykernel_49847/2289936044.py:41: FutureWarning: The default value of regex will change from True to False in a future version.\n",
      "  hotel_df['hotel_list'] = hotel_df['hotel_list'].str.replace(r'Breakfast included\\n', '')\n"
     ]
    },
    {
     "data": {
      "text/plain": "                                              hotel_list  day  dormitory  \\\n0      Opens in new window\\nActa Splendid\\nOpens in n...    0          0   \n1      Opens in new window\\nRamblas Hotel\\nOpens in n...    0          0   \n2      Opens in new window\\nBoutique Hotel H10 Montca...    0          0   \n3      Opens in new window\\nCatalonia Park Güell\\nOpe...    0          0   \n4      Opens in new window\\nHotel Best Aranea\\nOpens ...    0          0   \n...                                                  ...  ...        ...   \n10886  Opens in new window\\nUnique Rentals - Placa Ca...   13          0   \n10887  Opens in new window\\nESPASERIA\\nOpens in new w...   13          0   \n10888  Opens in new window\\nSleep on a Sailing Boat B...   13          0   \n10889  Opens in new window\\nCozy Stylish Apartment, P...   13          0   \n10890  Opens in new window\\nUnique Rentals-Seafront L...   13          0   \n\n       single  double  spa  apartment  yacht  studio  breakfast  \\\n0           0       1    0          0      0       0          0   \n1           1       0    0          0      0       0          1   \n2           1       0    0          0      0       0          0   \n3           0       1    0          0      0       0          0   \n4           1       0    0          0      0       0          0   \n...       ...     ...  ...        ...    ...     ...        ...   \n10886       0       0    0          1      0       0          0   \n10887       0       0    1          1      0       0          0   \n10888       0       0    0          0      1       0          0   \n10889       0       0    1          1      0       0          0   \n10890       0       0    0          1      0       0          0   \n\n                                                   hotel  beach_near review  \\\n0                                          Acta Splendid           1  [801]   \n1                                          Ramblas Hotel           1  [435]   \n2                            Boutique Hotel H10 Montcada           1  [289]   \n3                                   Catalonia Park Güell           0  [615]   \n4                                      Hotel Best Aranea           1  [061]   \n...                                                  ...         ...    ...   \n10886  Unique Rentals - Placa Catalunya Central Apart...           1    [9]   \n10887                                          ESPASERIA           1   [54]   \n10888                  Sleep on a Sailing Boat Barcelona           0   [33]   \n10889               Cozy Stylish Apartment, Plaza España           0    [8]   \n10890                Unique Rentals-Seafront Luxe Suites           0    [5]   \n\n      rating       price  prepayment  free_cancel distance_centre  metro  \n0      [8.7]   [152, 92]           0            1          0.7 km      1  \n1      [7.5]        [57]           1            0            1 km      1  \n2      [9.0]   [108, 92]           0            1          0.8 km      1  \n3      [7.7]        [57]           0            1          3.7 km      1  \n4      [8.4]        [76]           0            1          1.3 km      1  \n...      ...         ...         ...          ...             ...    ...  \n10886  [7.9]       [430]           1            0           150 m      1  \n10887  [7.8]  [185, 179]           1            0          1.1 km      1  \n10888  [7.9]  [133, 129]           1            0          5.7 km      0  \n10889  [8.6]  [588, 565]           1            0          1.9 km      1  \n10890  [7.9]  [392, 378]           1            0          4.5 km      0  \n\n[10891 rows x 19 columns]",
      "text/html": "<div>\n<style scoped>\n    .dataframe tbody tr th:only-of-type {\n        vertical-align: middle;\n    }\n\n    .dataframe tbody tr th {\n        vertical-align: top;\n    }\n\n    .dataframe thead th {\n        text-align: right;\n    }\n</style>\n<table border=\"1\" class=\"dataframe\">\n  <thead>\n    <tr style=\"text-align: right;\">\n      <th></th>\n      <th>hotel_list</th>\n      <th>day</th>\n      <th>dormitory</th>\n      <th>single</th>\n      <th>double</th>\n      <th>spa</th>\n      <th>apartment</th>\n      <th>yacht</th>\n      <th>studio</th>\n      <th>breakfast</th>\n      <th>hotel</th>\n      <th>beach_near</th>\n      <th>review</th>\n      <th>rating</th>\n      <th>price</th>\n      <th>prepayment</th>\n      <th>free_cancel</th>\n      <th>distance_centre</th>\n      <th>metro</th>\n    </tr>\n  </thead>\n  <tbody>\n    <tr>\n      <th>0</th>\n      <td>Opens in new window\\nActa Splendid\\nOpens in n...</td>\n      <td>0</td>\n      <td>0</td>\n      <td>0</td>\n      <td>1</td>\n      <td>0</td>\n      <td>0</td>\n      <td>0</td>\n      <td>0</td>\n      <td>0</td>\n      <td>Acta Splendid</td>\n      <td>1</td>\n      <td>[801]</td>\n      <td>[8.7]</td>\n      <td>[152, 92]</td>\n      <td>0</td>\n      <td>1</td>\n      <td>0.7 km</td>\n      <td>1</td>\n    </tr>\n    <tr>\n      <th>1</th>\n      <td>Opens in new window\\nRamblas Hotel\\nOpens in n...</td>\n      <td>0</td>\n      <td>0</td>\n      <td>1</td>\n      <td>0</td>\n      <td>0</td>\n      <td>0</td>\n      <td>0</td>\n      <td>0</td>\n      <td>1</td>\n      <td>Ramblas Hotel</td>\n      <td>1</td>\n      <td>[435]</td>\n      <td>[7.5]</td>\n      <td>[57]</td>\n      <td>1</td>\n      <td>0</td>\n      <td>1 km</td>\n      <td>1</td>\n    </tr>\n    <tr>\n      <th>2</th>\n      <td>Opens in new window\\nBoutique Hotel H10 Montca...</td>\n      <td>0</td>\n      <td>0</td>\n      <td>1</td>\n      <td>0</td>\n      <td>0</td>\n      <td>0</td>\n      <td>0</td>\n      <td>0</td>\n      <td>0</td>\n      <td>Boutique Hotel H10 Montcada</td>\n      <td>1</td>\n      <td>[289]</td>\n      <td>[9.0]</td>\n      <td>[108, 92]</td>\n      <td>0</td>\n      <td>1</td>\n      <td>0.8 km</td>\n      <td>1</td>\n    </tr>\n    <tr>\n      <th>3</th>\n      <td>Opens in new window\\nCatalonia Park Güell\\nOpe...</td>\n      <td>0</td>\n      <td>0</td>\n      <td>0</td>\n      <td>1</td>\n      <td>0</td>\n      <td>0</td>\n      <td>0</td>\n      <td>0</td>\n      <td>0</td>\n      <td>Catalonia Park Güell</td>\n      <td>0</td>\n      <td>[615]</td>\n      <td>[7.7]</td>\n      <td>[57]</td>\n      <td>0</td>\n      <td>1</td>\n      <td>3.7 km</td>\n      <td>1</td>\n    </tr>\n    <tr>\n      <th>4</th>\n      <td>Opens in new window\\nHotel Best Aranea\\nOpens ...</td>\n      <td>0</td>\n      <td>0</td>\n      <td>1</td>\n      <td>0</td>\n      <td>0</td>\n      <td>0</td>\n      <td>0</td>\n      <td>0</td>\n      <td>0</td>\n      <td>Hotel Best Aranea</td>\n      <td>1</td>\n      <td>[061]</td>\n      <td>[8.4]</td>\n      <td>[76]</td>\n      <td>0</td>\n      <td>1</td>\n      <td>1.3 km</td>\n      <td>1</td>\n    </tr>\n    <tr>\n      <th>...</th>\n      <td>...</td>\n      <td>...</td>\n      <td>...</td>\n      <td>...</td>\n      <td>...</td>\n      <td>...</td>\n      <td>...</td>\n      <td>...</td>\n      <td>...</td>\n      <td>...</td>\n      <td>...</td>\n      <td>...</td>\n      <td>...</td>\n      <td>...</td>\n      <td>...</td>\n      <td>...</td>\n      <td>...</td>\n      <td>...</td>\n      <td>...</td>\n    </tr>\n    <tr>\n      <th>10886</th>\n      <td>Opens in new window\\nUnique Rentals - Placa Ca...</td>\n      <td>13</td>\n      <td>0</td>\n      <td>0</td>\n      <td>0</td>\n      <td>0</td>\n      <td>1</td>\n      <td>0</td>\n      <td>0</td>\n      <td>0</td>\n      <td>Unique Rentals - Placa Catalunya Central Apart...</td>\n      <td>1</td>\n      <td>[9]</td>\n      <td>[7.9]</td>\n      <td>[430]</td>\n      <td>1</td>\n      <td>0</td>\n      <td>150 m</td>\n      <td>1</td>\n    </tr>\n    <tr>\n      <th>10887</th>\n      <td>Opens in new window\\nESPASERIA\\nOpens in new w...</td>\n      <td>13</td>\n      <td>0</td>\n      <td>0</td>\n      <td>0</td>\n      <td>1</td>\n      <td>1</td>\n      <td>0</td>\n      <td>0</td>\n      <td>0</td>\n      <td>ESPASERIA</td>\n      <td>1</td>\n      <td>[54]</td>\n      <td>[7.8]</td>\n      <td>[185, 179]</td>\n      <td>1</td>\n      <td>0</td>\n      <td>1.1 km</td>\n      <td>1</td>\n    </tr>\n    <tr>\n      <th>10888</th>\n      <td>Opens in new window\\nSleep on a Sailing Boat B...</td>\n      <td>13</td>\n      <td>0</td>\n      <td>0</td>\n      <td>0</td>\n      <td>0</td>\n      <td>0</td>\n      <td>1</td>\n      <td>0</td>\n      <td>0</td>\n      <td>Sleep on a Sailing Boat Barcelona</td>\n      <td>0</td>\n      <td>[33]</td>\n      <td>[7.9]</td>\n      <td>[133, 129]</td>\n      <td>1</td>\n      <td>0</td>\n      <td>5.7 km</td>\n      <td>0</td>\n    </tr>\n    <tr>\n      <th>10889</th>\n      <td>Opens in new window\\nCozy Stylish Apartment, P...</td>\n      <td>13</td>\n      <td>0</td>\n      <td>0</td>\n      <td>0</td>\n      <td>1</td>\n      <td>1</td>\n      <td>0</td>\n      <td>0</td>\n      <td>0</td>\n      <td>Cozy Stylish Apartment, Plaza España</td>\n      <td>0</td>\n      <td>[8]</td>\n      <td>[8.6]</td>\n      <td>[588, 565]</td>\n      <td>1</td>\n      <td>0</td>\n      <td>1.9 km</td>\n      <td>1</td>\n    </tr>\n    <tr>\n      <th>10890</th>\n      <td>Opens in new window\\nUnique Rentals-Seafront L...</td>\n      <td>13</td>\n      <td>0</td>\n      <td>0</td>\n      <td>0</td>\n      <td>0</td>\n      <td>1</td>\n      <td>0</td>\n      <td>0</td>\n      <td>0</td>\n      <td>Unique Rentals-Seafront Luxe Suites</td>\n      <td>0</td>\n      <td>[5]</td>\n      <td>[7.9]</td>\n      <td>[392, 378]</td>\n      <td>1</td>\n      <td>0</td>\n      <td>4.5 km</td>\n      <td>0</td>\n    </tr>\n  </tbody>\n</table>\n<p>10891 rows × 19 columns</p>\n</div>"
     },
     "execution_count": 118,
     "metadata": {},
     "output_type": "execute_result"
    }
   ],
   "source": [
    "# Dromitory:\n",
    "dorm = \"dormitory\"\n",
    "hotel_df['dormitory'] = hotel_df['hotel_list'].apply(lambda st: 1 if dorm in st.casefold()  else 0)\n",
    "\n",
    "# Single:\n",
    "single = \"single room\"\n",
    "hotel_df['single'] = hotel_df['hotel_list'].apply(lambda st: 1 if single in st.casefold()  else 0)\n",
    "\n",
    "# double or twin:\n",
    "double = \"double room\"\n",
    "twin = \"twin room\"\n",
    "both = \"double or twin Room\"\n",
    "hotel_df['double'] = hotel_df['hotel_list'].apply(lambda st: 1 if double in st.casefold() or twin in st.casefold() or both in st.casefold() else 0)\n",
    "\n",
    "# Spa:\n",
    "spa = \"spa\"\n",
    "hotel_df['spa'] = hotel_df['hotel_list'].apply(lambda st: 1 if spa in st.casefold() else 0)\n",
    "\n",
    "\n",
    "\n",
    "\n",
    "# Apartment:\n",
    "apartment = \"apartment\"\n",
    "hotel_df['apartment'] = hotel_df['hotel_list'].apply(lambda st: 1 if apartment in st.casefold()  else 0)\n",
    "\n",
    "# Yacht:\n",
    "yacht = \"yacht\"\n",
    "mobile_home = \"mobile home\"\n",
    "hotel_df['yacht'] = hotel_df['hotel_list'].apply(lambda st: 1 if yacht in st.casefold() or \"mobile home\" in st.casefold() else 0)\n",
    "\n",
    "# Studio:\n",
    "studio = \"studio\"\n",
    "hotel_df['studio'] = hotel_df['hotel_list'].apply(lambda st: 1 if studio in st.casefold() else 0)\n",
    "\n",
    "\n",
    "# Add column if breakfast is included:\n",
    "breakfast = \"Breakfast included\"\n",
    "hotel_df['breakfast'] = hotel_df['hotel_list'].apply(lambda st: 1 if breakfast in st else 0)\n",
    "\n",
    "# Remove breakfast:\n",
    "hotel_df['hotel_list'] = hotel_df['hotel_list'].str.replace(r'Breakfast included\\n', '')\n",
    "\n",
    "# Add hotel name:\n",
    "hotel_df['hotel'] = hotel_df['hotel_list'].apply(lambda st: st[st.find(\"Opens in new window\\n\")+len(\"Opens in new window\\n\"):st.find(\"\\nOpens in new window\")])\n",
    "\n",
    "\n",
    "# Add beach:\n",
    "beach = \"Beach nearby\"\n",
    "hotel_df['beach_near'] = hotel_df['hotel_list'].apply(lambda st: 1 if beach in st else 0)\n",
    "\n",
    "# Get number of reviews:\n",
    "def review(hotel):\n",
    "    return re.findall(r'(\\d+) reviews', hotel)\n",
    "\n",
    "hotel_df['review'] = hotel_df['hotel_list'].apply(review)\n",
    "# all_list_1\n",
    "\n",
    "# Get reviews:\n",
    "def rating(hotel):\n",
    "    return re.findall(r'\\n+(\\d.\\d+)\\n',hotel)\n",
    "\n",
    "hotel_df['rating'] = hotel_df['hotel_list'].apply(rating)\n",
    "\n",
    "\n",
    "# Get prices:\n",
    "def price(hotel):\n",
    "    return re.findall(r'€+ (\\d+)',hotel)\n",
    "\n",
    "hotel_df['price'] = hotel_df['hotel_list'].apply(price)\n",
    "\n",
    "# Add prepayment: 1 if prepayment required\n",
    "prepay = \"No prepayment\"\n",
    "hotel_df['prepayment'] = hotel_df['hotel_list'].apply(lambda st: 0 if prepay in st else 1)\n",
    "\n",
    "# Add free_canellation: 1 if free cancellation possible\n",
    "free_cancel = \"FREE cancellation\"\n",
    "hotel_df['free_cancel'] = hotel_df['hotel_list'].apply(lambda  st: 1 if free_cancel in st else 0)\n",
    "\n",
    "# Add distance from centre:\n",
    "hotel_df['distance_centre'] = hotel_df['hotel_list'].apply(lambda st: st[st.find(\"map\")+len(\"map\"):st.find(\" from centre\")])\n",
    "\n",
    "# Add metro:\n",
    "metro = \"metro\"\n",
    "hotel_df['metro'] = hotel_df['hotel_list'].apply(lambda  st: 1 if metro in st.casefold() else 0)\n",
    "hotel_df\n"
   ],
   "metadata": {
    "collapsed": false,
    "pycharm": {
     "name": "#%%\n"
    }
   }
  },
  {
   "cell_type": "markdown",
   "source": [
    "## Convert string features to float:\n"
   ],
   "metadata": {
    "collapsed": false,
    "pycharm": {
     "name": "#%% md\n"
    }
   }
  },
  {
   "cell_type": "markdown",
   "source": [
    "### Function to convert distance to float"
   ],
   "metadata": {
    "collapsed": false,
    "pycharm": {
     "name": "#%% md\n"
    }
   }
  },
  {
   "cell_type": "code",
   "execution_count": 119,
   "outputs": [],
   "source": [
    "def dist(x):\n",
    "    if \"km\" in x:\n",
    "        return float(x.strip(\"km\"))*1000\n",
    "    elif \"km\" not in x:\n",
    "        return float(x.strip(\"m\"))\n",
    "    else:\n",
    "        pass"
   ],
   "metadata": {
    "collapsed": false,
    "pycharm": {
     "name": "#%%\n"
    }
   }
  },
  {
   "cell_type": "code",
   "execution_count": 120,
   "outputs": [],
   "source": [
    "# Convert distance to float:\n",
    "hotel_df['dist'] = hotel_df['distance_centre'].apply(dist)\n",
    "\n",
    "# Extract number of reviews:\n",
    "hotel_df['num_revs'] = pd.DataFrame(hotel_df['review'].tolist())\n",
    "hotel_df\n",
    "\n",
    "# Extract prices and concat with original df:\n",
    "prices = pd.DataFrame(hotel_df['price'].tolist(),columns=['price1','price2','price3'])\n",
    "del prices['price3']\n",
    "hotel_df = pd.concat([hotel_df,prices],axis=1)\n",
    "\n",
    "# Extract rating score:\n",
    "hotel_df['rating'] = pd.DataFrame(hotel_df['rating'].tolist())\n",
    "\n",
    "# Remove original features:\n",
    "delete = ['hotel_list','distance_centre', 'review','price']\n",
    "hotel_df = hotel_df.drop(['hotel_list','distance_centre', 'review','price'],axis = 1)\n",
    "\n",
    "# Convert string elements to float:\n",
    "strin = ['rating','num_revs','price1','price2']\n",
    "for item in strin:\n",
    "    hotel_df[item] = hotel_df[item].astype(float)"
   ],
   "metadata": {
    "collapsed": false,
    "pycharm": {
     "name": "#%%\n"
    }
   }
  },
  {
   "cell_type": "markdown",
   "source": [
    "## Reorder features:"
   ],
   "metadata": {
    "collapsed": false,
    "pycharm": {
     "name": "#%% md\n"
    }
   }
  },
  {
   "cell_type": "code",
   "execution_count": 121,
   "outputs": [],
   "source": [
    "hotel = hotel_df['hotel']\n",
    "hotel_df = hotel_df.drop(columns=['hotel'])\n",
    "hotel_df.insert(loc=0,column='hotel',value=hotel)"
   ],
   "metadata": {
    "collapsed": false,
    "pycharm": {
     "name": "#%%\n"
    }
   }
  },
  {
   "cell_type": "code",
   "execution_count": 122,
   "outputs": [
    {
     "data": {
      "text/plain": "                                                   hotel  day  dormitory  \\\n0                                          Acta Splendid    0          0   \n1                                          Ramblas Hotel    0          0   \n2                            Boutique Hotel H10 Montcada    0          0   \n3                                   Catalonia Park Güell    0          0   \n4                                      Hotel Best Aranea    0          0   \n...                                                  ...  ...        ...   \n10886  Unique Rentals - Placa Catalunya Central Apart...   13          0   \n10887                                          ESPASERIA   13          0   \n10888                  Sleep on a Sailing Boat Barcelona   13          0   \n10889               Cozy Stylish Apartment, Plaza España   13          0   \n10890                Unique Rentals-Seafront Luxe Suites   13          0   \n\n       single  double  spa  apartment  yacht  studio  breakfast  beach_near  \\\n0           0       1    0          0      0       0          0           1   \n1           1       0    0          0      0       0          1           1   \n2           1       0    0          0      0       0          0           1   \n3           0       1    0          0      0       0          0           0   \n4           1       0    0          0      0       0          0           1   \n...       ...     ...  ...        ...    ...     ...        ...         ...   \n10886       0       0    0          1      0       0          0           1   \n10887       0       0    1          1      0       0          0           1   \n10888       0       0    0          0      1       0          0           0   \n10889       0       0    1          1      0       0          0           0   \n10890       0       0    0          1      0       0          0           0   \n\n       rating  prepayment  free_cancel  metro    dist  num_revs  price1  \\\n0         8.7           0            1      1   700.0     801.0   152.0   \n1         7.5           1            0      1  1000.0     435.0    57.0   \n2         9.0           0            1      1   800.0     289.0   108.0   \n3         7.7           0            1      1  3700.0     615.0    57.0   \n4         8.4           0            1      1  1300.0      61.0    76.0   \n...       ...         ...          ...    ...     ...       ...     ...   \n10886     7.9           1            0      1   150.0       9.0   430.0   \n10887     7.8           1            0      1  1100.0      54.0   185.0   \n10888     7.9           1            0      0  5700.0      33.0   133.0   \n10889     8.6           1            0      1  1900.0       8.0   588.0   \n10890     7.9           1            0      0  4500.0       5.0   392.0   \n\n       price2  \n0        92.0  \n1         NaN  \n2        92.0  \n3         NaN  \n4         NaN  \n...       ...  \n10886     NaN  \n10887   179.0  \n10888   129.0  \n10889   565.0  \n10890   378.0  \n\n[10891 rows x 19 columns]",
      "text/html": "<div>\n<style scoped>\n    .dataframe tbody tr th:only-of-type {\n        vertical-align: middle;\n    }\n\n    .dataframe tbody tr th {\n        vertical-align: top;\n    }\n\n    .dataframe thead th {\n        text-align: right;\n    }\n</style>\n<table border=\"1\" class=\"dataframe\">\n  <thead>\n    <tr style=\"text-align: right;\">\n      <th></th>\n      <th>hotel</th>\n      <th>day</th>\n      <th>dormitory</th>\n      <th>single</th>\n      <th>double</th>\n      <th>spa</th>\n      <th>apartment</th>\n      <th>yacht</th>\n      <th>studio</th>\n      <th>breakfast</th>\n      <th>beach_near</th>\n      <th>rating</th>\n      <th>prepayment</th>\n      <th>free_cancel</th>\n      <th>metro</th>\n      <th>dist</th>\n      <th>num_revs</th>\n      <th>price1</th>\n      <th>price2</th>\n    </tr>\n  </thead>\n  <tbody>\n    <tr>\n      <th>0</th>\n      <td>Acta Splendid</td>\n      <td>0</td>\n      <td>0</td>\n      <td>0</td>\n      <td>1</td>\n      <td>0</td>\n      <td>0</td>\n      <td>0</td>\n      <td>0</td>\n      <td>0</td>\n      <td>1</td>\n      <td>8.7</td>\n      <td>0</td>\n      <td>1</td>\n      <td>1</td>\n      <td>700.0</td>\n      <td>801.0</td>\n      <td>152.0</td>\n      <td>92.0</td>\n    </tr>\n    <tr>\n      <th>1</th>\n      <td>Ramblas Hotel</td>\n      <td>0</td>\n      <td>0</td>\n      <td>1</td>\n      <td>0</td>\n      <td>0</td>\n      <td>0</td>\n      <td>0</td>\n      <td>0</td>\n      <td>1</td>\n      <td>1</td>\n      <td>7.5</td>\n      <td>1</td>\n      <td>0</td>\n      <td>1</td>\n      <td>1000.0</td>\n      <td>435.0</td>\n      <td>57.0</td>\n      <td>NaN</td>\n    </tr>\n    <tr>\n      <th>2</th>\n      <td>Boutique Hotel H10 Montcada</td>\n      <td>0</td>\n      <td>0</td>\n      <td>1</td>\n      <td>0</td>\n      <td>0</td>\n      <td>0</td>\n      <td>0</td>\n      <td>0</td>\n      <td>0</td>\n      <td>1</td>\n      <td>9.0</td>\n      <td>0</td>\n      <td>1</td>\n      <td>1</td>\n      <td>800.0</td>\n      <td>289.0</td>\n      <td>108.0</td>\n      <td>92.0</td>\n    </tr>\n    <tr>\n      <th>3</th>\n      <td>Catalonia Park Güell</td>\n      <td>0</td>\n      <td>0</td>\n      <td>0</td>\n      <td>1</td>\n      <td>0</td>\n      <td>0</td>\n      <td>0</td>\n      <td>0</td>\n      <td>0</td>\n      <td>0</td>\n      <td>7.7</td>\n      <td>0</td>\n      <td>1</td>\n      <td>1</td>\n      <td>3700.0</td>\n      <td>615.0</td>\n      <td>57.0</td>\n      <td>NaN</td>\n    </tr>\n    <tr>\n      <th>4</th>\n      <td>Hotel Best Aranea</td>\n      <td>0</td>\n      <td>0</td>\n      <td>1</td>\n      <td>0</td>\n      <td>0</td>\n      <td>0</td>\n      <td>0</td>\n      <td>0</td>\n      <td>0</td>\n      <td>1</td>\n      <td>8.4</td>\n      <td>0</td>\n      <td>1</td>\n      <td>1</td>\n      <td>1300.0</td>\n      <td>61.0</td>\n      <td>76.0</td>\n      <td>NaN</td>\n    </tr>\n    <tr>\n      <th>...</th>\n      <td>...</td>\n      <td>...</td>\n      <td>...</td>\n      <td>...</td>\n      <td>...</td>\n      <td>...</td>\n      <td>...</td>\n      <td>...</td>\n      <td>...</td>\n      <td>...</td>\n      <td>...</td>\n      <td>...</td>\n      <td>...</td>\n      <td>...</td>\n      <td>...</td>\n      <td>...</td>\n      <td>...</td>\n      <td>...</td>\n      <td>...</td>\n    </tr>\n    <tr>\n      <th>10886</th>\n      <td>Unique Rentals - Placa Catalunya Central Apart...</td>\n      <td>13</td>\n      <td>0</td>\n      <td>0</td>\n      <td>0</td>\n      <td>0</td>\n      <td>1</td>\n      <td>0</td>\n      <td>0</td>\n      <td>0</td>\n      <td>1</td>\n      <td>7.9</td>\n      <td>1</td>\n      <td>0</td>\n      <td>1</td>\n      <td>150.0</td>\n      <td>9.0</td>\n      <td>430.0</td>\n      <td>NaN</td>\n    </tr>\n    <tr>\n      <th>10887</th>\n      <td>ESPASERIA</td>\n      <td>13</td>\n      <td>0</td>\n      <td>0</td>\n      <td>0</td>\n      <td>1</td>\n      <td>1</td>\n      <td>0</td>\n      <td>0</td>\n      <td>0</td>\n      <td>1</td>\n      <td>7.8</td>\n      <td>1</td>\n      <td>0</td>\n      <td>1</td>\n      <td>1100.0</td>\n      <td>54.0</td>\n      <td>185.0</td>\n      <td>179.0</td>\n    </tr>\n    <tr>\n      <th>10888</th>\n      <td>Sleep on a Sailing Boat Barcelona</td>\n      <td>13</td>\n      <td>0</td>\n      <td>0</td>\n      <td>0</td>\n      <td>0</td>\n      <td>0</td>\n      <td>1</td>\n      <td>0</td>\n      <td>0</td>\n      <td>0</td>\n      <td>7.9</td>\n      <td>1</td>\n      <td>0</td>\n      <td>0</td>\n      <td>5700.0</td>\n      <td>33.0</td>\n      <td>133.0</td>\n      <td>129.0</td>\n    </tr>\n    <tr>\n      <th>10889</th>\n      <td>Cozy Stylish Apartment, Plaza España</td>\n      <td>13</td>\n      <td>0</td>\n      <td>0</td>\n      <td>0</td>\n      <td>1</td>\n      <td>1</td>\n      <td>0</td>\n      <td>0</td>\n      <td>0</td>\n      <td>0</td>\n      <td>8.6</td>\n      <td>1</td>\n      <td>0</td>\n      <td>1</td>\n      <td>1900.0</td>\n      <td>8.0</td>\n      <td>588.0</td>\n      <td>565.0</td>\n    </tr>\n    <tr>\n      <th>10890</th>\n      <td>Unique Rentals-Seafront Luxe Suites</td>\n      <td>13</td>\n      <td>0</td>\n      <td>0</td>\n      <td>0</td>\n      <td>0</td>\n      <td>1</td>\n      <td>0</td>\n      <td>0</td>\n      <td>0</td>\n      <td>0</td>\n      <td>7.9</td>\n      <td>1</td>\n      <td>0</td>\n      <td>0</td>\n      <td>4500.0</td>\n      <td>5.0</td>\n      <td>392.0</td>\n      <td>378.0</td>\n    </tr>\n  </tbody>\n</table>\n<p>10891 rows × 19 columns</p>\n</div>"
     },
     "execution_count": 122,
     "metadata": {},
     "output_type": "execute_result"
    }
   ],
   "source": [
    "hotel_df\n"
   ],
   "metadata": {
    "collapsed": false,
    "pycharm": {
     "name": "#%%\n"
    }
   }
  },
  {
   "cell_type": "markdown",
   "source": [
    "## Export df to csv:"
   ],
   "metadata": {
    "collapsed": false,
    "pycharm": {
     "name": "#%% md\n"
    }
   }
  },
  {
   "cell_type": "code",
   "execution_count": 123,
   "outputs": [],
   "source": [
    "hotel_df.to_csv('hotel_df_1.csv')"
   ],
   "metadata": {
    "collapsed": false,
    "pycharm": {
     "name": "#%%\n"
    }
   }
  }
 ],
 "metadata": {
  "kernelspec": {
   "display_name": "Python 3",
   "language": "python",
   "name": "python3"
  },
  "language_info": {
   "codemirror_mode": {
    "name": "ipython",
    "version": 3
   },
   "file_extension": ".py",
   "mimetype": "text/x-python",
   "name": "python",
   "nbconvert_exporter": "python",
   "pygments_lexer": "ipython3",
   "version": "3.8.3"
  }
 },
 "nbformat": 4,
 "nbformat_minor": 4
}