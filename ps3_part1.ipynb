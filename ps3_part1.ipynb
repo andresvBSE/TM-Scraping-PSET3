{
 "cells": [
  {
   "cell_type": "markdown",
   "source": [
    "## Import modules:"
   ],
   "metadata": {
    "collapsed": false,
    "pycharm": {
     "name": "#%% md\n"
    }
   }
  },
  {
   "cell_type": "code",
   "execution_count": 459,
   "outputs": [],
   "source": [
    "import pandas as pd\n",
    "from selenium import webdriver\n",
    "from selenium.webdriver.common.by import By\n",
    "import re\n",
    "import time\n",
    "\n",
    "#imports keys such as enter etc\n",
    "from selenium.webdriver.common.keys import Keys\n",
    "from selenium.webdriver.support.ui import WebDriverWait\n",
    "from selenium.webdriver.support import expected_conditions as EC\n",
    "from selenium.webdriver.support.ui import Select\n",
    "from selenium.webdriver.support import expected_conditions as EC\n",
    "from bs4 import BeautifulSoup\n",
    "import requests\n",
    "\n"
   ],
   "metadata": {
    "collapsed": false,
    "pycharm": {
     "name": "#%%\n"
    }
   }
  },
  {
   "cell_type": "code",
   "execution_count": 32,
   "outputs": [
    {
     "name": "stdout",
     "output_type": "stream",
     "text": [
      "738\n"
     ]
    }
   ],
   "source": [
    "# Get number of properties: NOT USED\n",
    "# properties = driver.find_elements(By.XPATH, '//h1[text() and @class=\"_30227359d _0db903e42\"]')\n",
    "# prop_text = properties[0].text # text gives me 'Barcelona: ## properties'\n",
    "# num_prop = re.findall('[0-9]+', prop_text)\n",
    "# num_prop = num_prop[0]\n",
    "# print(num_prop)\n",
    "# print(type(num_prop))"
   ],
   "metadata": {
    "collapsed": false,
    "pycharm": {
     "name": "#%%\n"
    }
   }
  },
  {
   "cell_type": "markdown",
   "source": [
    "## Function for number of pages:"
   ],
   "metadata": {
    "collapsed": false,
    "pycharm": {
     "name": "#%% md\n"
    }
   }
  },
  {
   "cell_type": "code",
   "execution_count": null,
   "outputs": [],
   "source": [
    "def get_number_pages(browser):\n",
    "    '''\n",
    "    Get the number of pages.\n",
    "    '''\n",
    "    a = driver.find_elements_by_xpath(\n",
    "        '//button[text() and @class=\"_4310f7077 _fd15ae127\"]')\n",
    "    total_pages = int(a[-1].text)\n",
    "    return(total_pages)\n",
    "\n",
    "num_pages = int(get_number_pages(driver))\n",
    "num_pages"
   ],
   "metadata": {
    "collapsed": false,
    "pycharm": {
     "name": "#%%\n",
     "is_executing": true
    }
   }
  },
  {
   "cell_type": "markdown",
   "source": [
    "## Test that pages loop over:"
   ],
   "metadata": {
    "collapsed": false,
    "pycharm": {
     "name": "#%% md\n"
    }
   }
  },
  {
   "cell_type": "code",
   "execution_count": 755,
   "outputs": [],
   "source": [
    "for i in range(0,num_pages):\n",
    "    pagebuttons=driver.find_elements(By.XPATH,\n",
    "            '//button[text() and @class=\"_4310f7077 _fd15ae127\"]')\n",
    "    if i<7:\n",
    "        pagebuttons[i+1].click()\n",
    "    elif i==num_pages-1:\n",
    "        break\n",
    "    else:\n",
    "        pagebuttons[6].click()\n",
    "        time.sleep(2)"
   ],
   "metadata": {
    "collapsed": false,
    "pycharm": {
     "name": "#%%\n"
    }
   }
  },
  {
   "cell_type": "markdown",
   "source": [
    "## URL's for pages:"
   ],
   "metadata": {
    "collapsed": false,
    "pycharm": {
     "name": "#%% md\n"
    }
   }
  },
  {
   "cell_type": "code",
   "execution_count": 562,
   "outputs": [],
   "source": [
    "url_0 = \"https://www.booking.com/searchresults.en-gb.html?aid=304142&label=gen173nr-1FCAEoggI46AdIM1gEaEaIAQGYAQm4AQfIAQzYAQHoAQH4AQuIAgGoAgO4Aqm5y48GwAIB0gIkZjJkNzBjMWEtYjRiZi00OWVmLWJjYmUtODQxOTVlMzgxOWU42AIG4AIB&sid=77e9efe203f0f568bbf8e79686df1c7e&sb=1&sb_lp=1&src=index&src_elem=sb&error_url=https%3A%2F%2Fwww.booking.com%2Findex.en-gb.html%3Faid%3D304142%3Blabel%3Dgen173nr-1FCAEoggI46AdIM1gEaEaIAQGYAQm4AQfIAQzYAQHoAQH4AQuIAgGoAgO4Aqm5y48GwAIB0gIkZjJkNzBjMWEtYjRiZi00OWVmLWJjYmUtODQxOTVlMzgxOWU42AIG4AIB%3Bsid%3D77e9efe203f0f568bbf8e79686df1c7e%3Bsb_price_type%3Dtotal%3Bsrpvid%3D443b8de927f10164%26%3B&ss=Barcelona&is_ski_area=0&ssne=Barcelona&ssne_untouched=Barcelona&dest_id=-372490&dest_type=city&checkin_year=2022&checkin_month=3&checkin_monthday=23&checkout_year=2022&checkout_month=3&checkout_monthday=24&group_adults=1&group_children=0&no_rooms=1&b_h4u_keep_filters=&from_sf=1\""
   ],
   "metadata": {
    "collapsed": false,
    "pycharm": {
     "name": "#%%\n"
    }
   }
  },
  {
   "cell_type": "code",
   "execution_count": 560,
   "outputs": [],
   "source": [
    "url_1 = \"https://www.booking.com/searchresults.en-gb.html?aid=304142&label=gen173nr-1FCAEoggI46AdIM1gEaEaIAQGYAQm4AQfIAQzYAQHoAQH4AQuIAgGoAgO4Aqm5y48GwAIB0gIkZjJkNzBjMWEtYjRiZi00OWVmLWJjYmUtODQxOTVlMzgxOWU42AIG4AIB&sid=b96dacf0fa2b9b296fd6e54a609cb6f6&sb=1&sb_lp=1&src=index&src_elem=sb&error_url=https%3A%2F%2Fwww.booking.com%2Findex.en-gb.html%3Faid%3D304142%3Blabel%3Dgen173nr-1FCAEoggI46AdIM1gEaEaIAQGYAQm4AQfIAQzYAQHoAQH4AQuIAgGoAgO4Aqm5y48GwAIB0gIkZjJkNzBjMWEtYjRiZi00OWVmLWJjYmUtODQxOTVlMzgxOWU42AIG4AIB%3Bsid%3Db96dacf0fa2b9b296fd6e54a609cb6f6%3Bsb_price_type%3Dtotal%3Bsrpvid%3D25b28d3ae87f0155%26%3B&ss=Barcelona&is_ski_area=0&ssne=Barcelona&ssne_untouched=Barcelona&dest_id=-372490&dest_type=city&checkin_year=2022&checkin_month=3&checkin_monthday=24&checkout_year=2022&checkout_month=3&checkout_monthday=25&group_adults=1&group_children=0&no_rooms=1&b_h4u_keep_filters=&from_sf=1\""
   ],
   "metadata": {
    "collapsed": false,
    "pycharm": {
     "name": "#%%\n"
    }
   }
  },
  {
   "cell_type": "code",
   "execution_count": 503,
   "outputs": [],
   "source": [
    "url_2 = \"https://www.booking.com/searchresults.en-gb.html?label=gen173nr-1FCAEoggI46AdIM1gEaEaIAQGYAQm4AQfIAQzYAQHoAQH4AQuIAgGoAgO4Aqm5y48GwAIB0gIkZjJkNzBjMWEtYjRiZi00OWVmLWJjYmUtODQxOTVlMzgxOWU42AIG4AIB&sid=02419d7ed75d362355ed7a0b2cdbaae3&sb=1&sb_lp=1&src=index&src_elem=sb&error_url=https%3A%2F%2Fwww.booking.com%2Findex.en-gb.html%3Flabel%3Dgen173nr-1FCAEoggI46AdIM1gEaEaIAQGYAQm4AQfIAQzYAQHoAQH4AQuIAgGoAgO4Aqm5y48GwAIB0gIkZjJkNzBjMWEtYjRiZi00OWVmLWJjYmUtODQxOTVlMzgxOWU42AIG4AIB%3Bsid%3D02419d7ed75d362355ed7a0b2cdbaae3%3Bsb_price_type%3Dtotal%26%3B&ss=Barcelona&is_ski_area=0&ssne=Barcelona&ssne_untouched=Barcelona&dest_id=-372490&dest_type=city&checkin_year=2022&checkin_month=3&checkin_monthday=25&checkout_year=2022&checkout_month=3&checkout_monthday=26&group_adults=1&group_children=0&no_rooms=1&b_h4u_keep_filters=&from_sf=1\""
   ],
   "metadata": {
    "collapsed": false,
    "pycharm": {
     "name": "#%%\n"
    }
   }
  },
  {
   "cell_type": "code",
   "execution_count": 514,
   "outputs": [],
   "source": [
    "url_3 = \"https://www.booking.com/searchresults.en-gb.html?aid=304142&label=gen173nr-1FCAEoggI46AdIM1gEaEaIAQGYAQm4AQfIAQzYAQHoAQH4AQuIAgGoAgO4Aqm5y48GwAIB0gIkZjJkNzBjMWEtYjRiZi00OWVmLWJjYmUtODQxOTVlMzgxOWU42AIG4AIB&sid=50ec3fc58207c2b64ec4fe7386f84fef&sb=1&sb_lp=1&src=index&src_elem=sb&error_url=https%3A%2F%2Fwww.booking.com%2Findex.en-gb.html%3Faid%3D304142%3Blabel%3Dgen173nr-1FCAEoggI46AdIM1gEaEaIAQGYAQm4AQfIAQzYAQHoAQH4AQuIAgGoAgO4Aqm5y48GwAIB0gIkZjJkNzBjMWEtYjRiZi00OWVmLWJjYmUtODQxOTVlMzgxOWU42AIG4AIB%3Bsid%3D50ec3fc58207c2b64ec4fe7386f84fef%3Bsb_price_type%3Dtotal%3Bsrpvid%3Dd1a081750a7e00b2%26%3B&ss=Barcelona&is_ski_area=0&ssne=Barcelona&ssne_untouched=Barcelona&dest_id=-372490&dest_type=city&checkin_year=2022&checkin_month=3&checkin_monthday=26&checkout_year=2022&checkout_month=3&checkout_monthday=27&group_adults=1&group_children=0&no_rooms=1&b_h4u_keep_filters=&from_sf=1\""
   ],
   "metadata": {
    "collapsed": false,
    "pycharm": {
     "name": "#%%\n"
    }
   }
  },
  {
   "cell_type": "code",
   "execution_count": 519,
   "outputs": [],
   "source": [
    "url_4 = \"https://www.booking.com/searchresults.en-gb.html?aid=304142&label=gen173nr-1FCAEoggI46AdIM1gEaEaIAQGYAQm4AQfIAQzYAQHoAQH4AQuIAgGoAgO4Aqm5y48GwAIB0gIkZjJkNzBjMWEtYjRiZi00OWVmLWJjYmUtODQxOTVlMzgxOWU42AIG4AIB&sid=23d7cfb31d2afcadef2659c512e5d32c&sb=1&sb_lp=1&src=index&src_elem=sb&error_url=https%3A%2F%2Fwww.booking.com%2Findex.en-gb.html%3Faid%3D304142%3Blabel%3Dgen173nr-1FCAEoggI46AdIM1gEaEaIAQGYAQm4AQfIAQzYAQHoAQH4AQuIAgGoAgO4Aqm5y48GwAIB0gIkZjJkNzBjMWEtYjRiZi00OWVmLWJjYmUtODQxOTVlMzgxOWU42AIG4AIB%3Bsid%3D23d7cfb31d2afcadef2659c512e5d32c%3Bsb_price_type%3Dtotal%3Bsrpvid%3D551f8235b2150255%26%3B&ss=Barcelona&is_ski_area=0&ssne=Barcelona&ssne_untouched=Barcelona&dest_id=-372490&dest_type=city&checkin_year=2022&checkin_month=3&checkin_monthday=27&checkout_year=2022&checkout_month=3&checkout_monthday=28&group_adults=1&group_children=0&no_rooms=1&b_h4u_keep_filters=&from_sf=1\""
   ],
   "metadata": {
    "collapsed": false,
    "pycharm": {
     "name": "#%%\n"
    }
   }
  },
  {
   "cell_type": "code",
   "execution_count": 524,
   "outputs": [],
   "source": [
    "url_5 = \"https://www.booking.com/searchresults.en-gb.html?aid=304142&label=gen173nr-1FCAEoggI46AdIM1gEaEaIAQGYAQm4AQfIAQzYAQHoAQH4AQuIAgGoAgO4Aqm5y48GwAIB0gIkZjJkNzBjMWEtYjRiZi00OWVmLWJjYmUtODQxOTVlMzgxOWU42AIG4AIB&sid=eaeb2bd01b6312c8037be9a28e368d49&sb=1&sb_lp=1&src=index&src_elem=sb&error_url=https%3A%2F%2Fwww.booking.com%2Findex.en-gb.html%3Faid%3D304142%3Blabel%3Dgen173nr-1FCAEoggI46AdIM1gEaEaIAQGYAQm4AQfIAQzYAQHoAQH4AQuIAgGoAgO4Aqm5y48GwAIB0gIkZjJkNzBjMWEtYjRiZi00OWVmLWJjYmUtODQxOTVlMzgxOWU42AIG4AIB%3Bsid%3Deaeb2bd01b6312c8037be9a28e368d49%3Bsb_price_type%3Dtotal%3Bsrpvid%3D88ec82e6cf8a0015%26%3B&ss=Barcelona&is_ski_area=0&ssne=Barcelona&ssne_untouched=Barcelona&dest_id=-372490&dest_type=city&checkin_year=2022&checkin_month=3&checkin_monthday=28&checkout_year=2022&checkout_month=3&checkout_monthday=29&group_adults=1&group_children=0&no_rooms=1&b_h4u_keep_filters=&from_sf=1\""
   ],
   "metadata": {
    "collapsed": false,
    "pycharm": {
     "name": "#%%\n"
    }
   }
  },
  {
   "cell_type": "code",
   "execution_count": 539,
   "outputs": [],
   "source": [
    "url_6 = \"https://www.booking.com/searchresults.en-gb.html?aid=304142&label=gen173nr-1FCAEoggI46AdIM1gEaEaIAQGYAQm4AQfIAQzYAQHoAQH4AQuIAgGoAgO4Aqm5y48GwAIB0gIkZjJkNzBjMWEtYjRiZi00OWVmLWJjYmUtODQxOTVlMzgxOWU42AIG4AIB&sid=7db12ef48d576ec948e70ca4985a9865&sb=1&sb_lp=1&src=index&src_elem=sb&error_url=https%3A%2F%2Fwww.booking.com%2Findex.en-gb.html%3Faid%3D304142%3Blabel%3Dgen173nr-1FCAEoggI46AdIM1gEaEaIAQGYAQm4AQfIAQzYAQHoAQH4AQuIAgGoAgO4Aqm5y48GwAIB0gIkZjJkNzBjMWEtYjRiZi00OWVmLWJjYmUtODQxOTVlMzgxOWU42AIG4AIB%3Bsid%3D7db12ef48d576ec948e70ca4985a9865%3Bsb_price_type%3Dtotal%3Bsrpvid%3D3e5c83e498130075%26%3B&ss=Barcelona&is_ski_area=0&ssne=Barcelona&ssne_untouched=Barcelona&dest_id=-372490&dest_type=city&checkin_year=2022&checkin_month=3&checkin_monthday=29&checkout_year=2022&checkout_month=3&checkout_monthday=30&group_adults=1&group_children=0&no_rooms=1&b_h4u_keep_filters=&from_sf=1\""
   ],
   "metadata": {
    "collapsed": false,
    "pycharm": {
     "name": "#%%\n"
    }
   }
  },
  {
   "cell_type": "code",
   "execution_count": 543,
   "outputs": [],
   "source": [
    "url_7 = \"https://www.booking.com/searchresults.en-gb.html?aid=304142&label=gen173nr-1FCAEoggI46AdIM1gEaEaIAQGYAQm4AQfIAQzYAQHoAQH4AQuIAgGoAgO4Aqm5y48GwAIB0gIkZjJkNzBjMWEtYjRiZi00OWVmLWJjYmUtODQxOTVlMzgxOWU42AIG4AIB&sid=6b21ed24e2931600c71f0b907816e4a6&sb=1&sb_lp=1&src=index&src_elem=sb&error_url=https%3A%2F%2Fwww.booking.com%2Findex.en-gb.html%3Faid%3D304142%3Blabel%3Dgen173nr-1FCAEoggI46AdIM1gEaEaIAQGYAQm4AQfIAQzYAQHoAQH4AQuIAgGoAgO4Aqm5y48GwAIB0gIkZjJkNzBjMWEtYjRiZi00OWVmLWJjYmUtODQxOTVlMzgxOWU42AIG4AIB%3Bsid%3D6b21ed24e2931600c71f0b907816e4a6%3Bsb_price_type%3Dtotal%3Bsrpvid%3D20ab87e4d0be0126%26%3B&ss=Barcelona&is_ski_area=0&ssne=Barcelona&ssne_untouched=Barcelona&dest_id=-372490&dest_type=city&checkin_year=2022&checkin_month=3&checkin_monthday=30&checkout_year=2022&checkout_month=3&checkout_monthday=31&group_adults=1&group_children=0&no_rooms=1&b_h4u_keep_filters=&from_sf=1\""
   ],
   "metadata": {
    "collapsed": false,
    "pycharm": {
     "name": "#%%\n"
    }
   }
  },
  {
   "cell_type": "code",
   "execution_count": 547,
   "outputs": [],
   "source": [
    "url_8 = \"https://www.booking.com/searchresults.en-gb.html?aid=304142&label=gen173nr-1FCAEoggI46AdIM1gEaEaIAQGYAQm4AQfIAQzYAQHoAQH4AQuIAgGoAgO4Aqm5y48GwAIB0gIkZjJkNzBjMWEtYjRiZi00OWVmLWJjYmUtODQxOTVlMzgxOWU42AIG4AIB&sid=2d8f2c0e75ad946695faca8475bef5dd&sb=1&sb_lp=1&src=index&src_elem=sb&error_url=https%3A%2F%2Fwww.booking.com%2Findex.en-gb.html%3Faid%3D304142%3Blabel%3Dgen173nr-1FCAEoggI46AdIM1gEaEaIAQGYAQm4AQfIAQzYAQHoAQH4AQuIAgGoAgO4Aqm5y48GwAIB0gIkZjJkNzBjMWEtYjRiZi00OWVmLWJjYmUtODQxOTVlMzgxOWU42AIG4AIB%3Bsid%3D2d8f2c0e75ad946695faca8475bef5dd%3Bsb_price_type%3Dtotal%3Bsrpvid%3Dd25888a5a7460090%26%3B&ss=Barcelona&is_ski_area=0&ssne=Barcelona&ssne_untouched=Barcelona&dest_id=-372490&dest_type=city&checkin_year=2022&checkin_month=3&checkin_monthday=31&checkout_year=2022&checkout_month=4&checkout_monthday=1&group_adults=1&group_children=0&no_rooms=1&b_h4u_keep_filters=&from_sf=1\""
   ],
   "metadata": {
    "collapsed": false,
    "pycharm": {
     "name": "#%%\n"
    }
   }
  },
  {
   "cell_type": "code",
   "execution_count": 550,
   "outputs": [],
   "source": [
    "url_9 = \"https://www.booking.com/searchresults.en-gb.html?aid=304142&label=gen173nr-1FCAEoggI46AdIM1gEaEaIAQGYAQm4AQfIAQzYAQHoAQH4AQuIAgGoAgO4Aqm5y48GwAIB0gIkZjJkNzBjMWEtYjRiZi00OWVmLWJjYmUtODQxOTVlMzgxOWU42AIG4AIB&sid=7e04498ff605b83230d19ae204e4d939&sb=1&sb_lp=1&src=index&src_elem=sb&error_url=https%3A%2F%2Fwww.booking.com%2Findex.en-gb.html%3Faid%3D304142%3Blabel%3Dgen173nr-1FCAEoggI46AdIM1gEaEaIAQGYAQm4AQfIAQzYAQHoAQH4AQuIAgGoAgO4Aqm5y48GwAIB0gIkZjJkNzBjMWEtYjRiZi00OWVmLWJjYmUtODQxOTVlMzgxOWU42AIG4AIB%3Bsid%3D7e04498ff605b83230d19ae204e4d939%3Bsb_price_type%3Dtotal%3Bsrpvid%3D20ce894d6b3c02f2%26%3B&ss=Barcelona&is_ski_area=0&ssne=Barcelona&ssne_untouched=Barcelona&dest_id=-372490&dest_type=city&checkin_year=2022&checkin_month=4&checkin_monthday=1&checkout_year=2022&checkout_month=4&checkout_monthday=2&group_adults=1&group_children=0&no_rooms=1&b_h4u_keep_filters=&from_sf=1\""
   ],
   "metadata": {
    "collapsed": false,
    "pycharm": {
     "name": "#%%\n"
    }
   }
  },
  {
   "cell_type": "code",
   "execution_count": 552,
   "outputs": [],
   "source": [
    "url_10 = \"https://www.booking.com/searchresults.en-gb.html?aid=304142&label=gen173nr-1FCAEoggI46AdIM1gEaEaIAQGYAQm4AQfIAQzYAQHoAQH4AQuIAgGoAgO4Aqm5y48GwAIB0gIkZjJkNzBjMWEtYjRiZi00OWVmLWJjYmUtODQxOTVlMzgxOWU42AIG4AIB&sid=c8772afd8c0800d30fe4ce7fafe7948e&sb=1&sb_lp=1&src=index&src_elem=sb&error_url=https%3A%2F%2Fwww.booking.com%2Findex.en-gb.html%3Faid%3D304142%3Blabel%3Dgen173nr-1FCAEoggI46AdIM1gEaEaIAQGYAQm4AQfIAQzYAQHoAQH4AQuIAgGoAgO4Aqm5y48GwAIB0gIkZjJkNzBjMWEtYjRiZi00OWVmLWJjYmUtODQxOTVlMzgxOWU42AIG4AIB%3Bsid%3Dc8772afd8c0800d30fe4ce7fafe7948e%3Bsb_price_type%3Dtotal%3Bsrpvid%3D7d1589edb2250243%26%3B&ss=Barcelona&is_ski_area=0&ssne=Barcelona&ssne_untouched=Barcelona&dest_id=-372490&dest_type=city&checkin_year=2022&checkin_month=4&checkin_monthday=2&checkout_year=2022&checkout_month=4&checkout_monthday=3&group_adults=1&group_children=0&no_rooms=1&b_h4u_keep_filters=&from_sf=1\""
   ],
   "metadata": {
    "collapsed": false,
    "pycharm": {
     "name": "#%%\n"
    }
   }
  },
  {
   "cell_type": "code",
   "execution_count": 554,
   "outputs": [],
   "source": [
    "url_11 = \"https://www.booking.com/searchresults.en-gb.html?aid=304142&label=gen173nr-1FCAEoggI46AdIM1gEaEaIAQGYAQm4AQfIAQzYAQHoAQH4AQuIAgGoAgO4Aqm5y48GwAIB0gIkZjJkNzBjMWEtYjRiZi00OWVmLWJjYmUtODQxOTVlMzgxOWU42AIG4AIB&sid=03c3b241ce98558d8fdd38c5138fd744&sb=1&sb_lp=1&src=index&src_elem=sb&error_url=https%3A%2F%2Fwww.booking.com%2Findex.en-gb.html%3Faid%3D304142%3Blabel%3Dgen173nr-1FCAEoggI46AdIM1gEaEaIAQGYAQm4AQfIAQzYAQHoAQH4AQuIAgGoAgO4Aqm5y48GwAIB0gIkZjJkNzBjMWEtYjRiZi00OWVmLWJjYmUtODQxOTVlMzgxOWU42AIG4AIB%3Bsid%3D03c3b241ce98558d8fdd38c5138fd744%3Bsb_price_type%3Dtotal%3Bsrpvid%3Dca848ae46e9d0127%26%3B&ss=Barcelona&is_ski_area=0&ssne=Barcelona&ssne_untouched=Barcelona&dest_id=-372490&dest_type=city&checkin_year=2022&checkin_month=4&checkin_monthday=3&checkout_year=2022&checkout_month=4&checkout_monthday=4&group_adults=1&group_children=0&no_rooms=1&b_h4u_keep_filters=&from_sf=1\""
   ],
   "metadata": {
    "collapsed": false,
    "pycharm": {
     "name": "#%%\n"
    }
   }
  },
  {
   "cell_type": "code",
   "execution_count": 556,
   "outputs": [],
   "source": [
    "url_12 = \"https://www.booking.com/searchresults.en-gb.html?aid=304142&label=gen173nr-1FCAEoggI46AdIM1gEaEaIAQGYAQm4AQfIAQzYAQHoAQH4AQuIAgGoAgO4Aqm5y48GwAIB0gIkZjJkNzBjMWEtYjRiZi00OWVmLWJjYmUtODQxOTVlMzgxOWU42AIG4AIB&sid=883df301f4e63c86a72ed93ef7b2dacf&sb=1&sb_lp=1&src=index&src_elem=sb&error_url=https%3A%2F%2Fwww.booking.com%2Findex.en-gb.html%3Faid%3D304142%3Blabel%3Dgen173nr-1FCAEoggI46AdIM1gEaEaIAQGYAQm4AQfIAQzYAQHoAQH4AQuIAgGoAgO4Aqm5y48GwAIB0gIkZjJkNzBjMWEtYjRiZi00OWVmLWJjYmUtODQxOTVlMzgxOWU42AIG4AIB%3Bsid%3D883df301f4e63c86a72ed93ef7b2dacf%3Bsb_price_type%3Dtotal%3Bsrpvid%3D465d8bbcdf950161%26%3B&ss=Barcelona&is_ski_area=0&ssne=Barcelona&ssne_untouched=Barcelona&dest_id=-372490&dest_type=city&checkin_year=2022&checkin_month=4&checkin_monthday=4&checkout_year=2022&checkout_month=4&checkout_monthday=5&group_adults=1&group_children=0&no_rooms=1&b_h4u_keep_filters=&from_sf=1\""
   ],
   "metadata": {
    "collapsed": false,
    "pycharm": {
     "name": "#%%\n"
    }
   }
  },
  {
   "cell_type": "code",
   "execution_count": 558,
   "outputs": [],
   "source": [
    "url_13 = \"https://www.booking.com/searchresults.en-gb.html?aid=304142&label=gen173nr-1FCAEoggI46AdIM1gEaEaIAQGYAQm4AQfIAQzYAQHoAQH4AQuIAgGoAgO4Aqm5y48GwAIB0gIkZjJkNzBjMWEtYjRiZi00OWVmLWJjYmUtODQxOTVlMzgxOWU42AIG4AIB&sid=1792de65292c7fd980f7a82ba3c6414b&sb=1&sb_lp=1&src=index&src_elem=sb&error_url=https%3A%2F%2Fwww.booking.com%2Findex.en-gb.html%3Faid%3D304142%3Blabel%3Dgen173nr-1FCAEoggI46AdIM1gEaEaIAQGYAQm4AQfIAQzYAQHoAQH4AQuIAgGoAgO4Aqm5y48GwAIB0gIkZjJkNzBjMWEtYjRiZi00OWVmLWJjYmUtODQxOTVlMzgxOWU42AIG4AIB%3Bsid%3D1792de65292c7fd980f7a82ba3c6414b%3Bsb_price_type%3Dtotal%3Bsrpvid%3D24bd8c85eb8c0067%26%3B&ss=Barcelona&is_ski_area=0&ssne=Barcelona&ssne_untouched=Barcelona&dest_id=-372490&dest_type=city&checkin_year=2022&checkin_month=4&checkin_monthday=5&checkout_year=2022&checkout_month=4&checkout_monthday=6&group_adults=1&group_children=0&no_rooms=1&b_h4u_keep_filters=&from_sf=1\""
   ],
   "metadata": {
    "collapsed": false,
    "pycharm": {
     "name": "#%%\n"
    }
   }
  },
  {
   "cell_type": "code",
   "execution_count": 795,
   "outputs": [],
   "source": [
    "url_list = [url_0,url_1,url_2,url_3,url_4,url_5,url_6,url_7,url_8,url_9,url_10,url_11,url_12,url_13]"
   ],
   "metadata": {
    "collapsed": false,
    "pycharm": {
     "name": "#%%\n"
    }
   }
  },
  {
   "cell_type": "markdown",
   "source": [
    "## Loop for all webpages in url_list:"
   ],
   "metadata": {
    "collapsed": false,
    "pycharm": {
     "name": "#%% md\n"
    }
   }
  },
  {
   "cell_type": "code",
   "execution_count": 767,
   "outputs": [
    {
     "name": "stderr",
     "output_type": "stream",
     "text": [
      "/var/folders/z1/06t5y7z11fz24b5p636_mqnr0000gn/T/ipykernel_31898/2767847682.py:2: DeprecationWarning: executable_path has been deprecated, please pass in a Service object\n",
      "  driver = webdriver.Chrome(PATH)\n",
      "/var/folders/z1/06t5y7z11fz24b5p636_mqnr0000gn/T/ipykernel_31898/1379632141.py:5: DeprecationWarning: find_elements_by_* commands are deprecated. Please use find_elements() instead\n",
      "  a = driver.find_elements_by_xpath(\n"
     ]
    },
    {
     "name": "stdout",
     "output_type": "stream",
     "text": [
      "40\n",
      "40\n"
     ]
    }
   ],
   "source": [
    "PATH = \"/Users/gnlm/Desktop/School/MSC/DS/Term 2/TM/Assignments/PS3/scraping/chromedriver\"\n",
    "driver = webdriver.Chrome(PATH)\n",
    "\n",
    "hotels = []\n",
    "for i in range(len(url_list)):\n",
    "    driver.get(url_list[i])\n",
    "    # Wait for page to load:\n",
    "    time.sleep(5)\n",
    "\n",
    "    # Accept cookies:\n",
    "    if len(driver.find_elements(By.ID,\n",
    "                                \"onetrust-accept-btn-handler\")) != 0: #Check cookies button is present!\n",
    "        cookies = driver.find_elements(By.ID,\n",
    "                                    \"onetrust-accept-btn-handler\")\n",
    "        cookies[0].click()\n",
    "    else:\n",
    "        pass\n",
    "    time.sleep(2)\n",
    "\n",
    "    # Get number of pages:\n",
    "    num_pages = int(get_number_pages(driver))\n",
    "    print(num_pages)\n",
    "\n",
    "    day_list = []\n",
    "    for j in range(0,num_pages):\n",
    "        pagebuttons=driver.find_elements(By.XPATH,\n",
    "            '//button[text() and @class=\"_4310f7077 _fd15ae127\"]')\n",
    "        # Get property cards:\n",
    "        property_card = driver.find_elements(By.XPATH,\n",
    "                                         '//div[@data-testid=\"property-card\"]')\n",
    "\n",
    "        property = [item.text for item in property_card]\n",
    "\n",
    "        df = pd.DataFrame(\n",
    "        {'hotel_list': property,\n",
    "         'day':i\n",
    "        })\n",
    "        day_list.append(df)\n",
    "        if j<7:\n",
    "             pagebuttons[j+1].click()\n",
    "             time.sleep(4)\n",
    "        elif j == num_pages-1:\n",
    "            break\n",
    "        else:\n",
    "            pagebuttons[6].click()\n",
    "            time.sleep(4)\n",
    "\n",
    "    hotels.append(day_list)\n"
   ],
   "metadata": {
    "collapsed": false,
    "pycharm": {
     "name": "#%%\n"
    }
   }
  },
  {
   "cell_type": "markdown",
   "source": [
    "## Covert list of df's to a df:"
   ],
   "metadata": {
    "collapsed": false,
    "pycharm": {
     "name": "#%% md\n"
    }
   }
  },
  {
   "cell_type": "code",
   "execution_count": 570,
   "outputs": [],
   "source": [
    "def df_list(df):\n",
    "    return pd.concat(df)"
   ],
   "metadata": {
    "collapsed": false,
    "pycharm": {
     "name": "#%%\n"
    }
   }
  },
  {
   "cell_type": "code",
   "execution_count": 784,
   "outputs": [
    {
     "ename": "TypeError",
     "evalue": "first argument must be an iterable of pandas objects, you passed an object of type \"DataFrame\"",
     "output_type": "error",
     "traceback": [
      "\u001B[0;31m---------------------------------------------------------------------------\u001B[0m",
      "\u001B[0;31mTypeError\u001B[0m                                 Traceback (most recent call last)",
      "Input \u001B[0;32mIn [784]\u001B[0m, in \u001B[0;36m<module>\u001B[0;34m\u001B[0m\n\u001B[1;32m      1\u001B[0m \u001B[38;5;66;03m# hotel_df = [df_list(item) for item in hotels]\u001B[39;00m\n\u001B[0;32m----> 2\u001B[0m hotel_df \u001B[38;5;241m=\u001B[39m \u001B[43mdf_list\u001B[49m\u001B[43m(\u001B[49m\u001B[43mhotel_df\u001B[49m\u001B[43m)\u001B[49m\n\u001B[1;32m      3\u001B[0m hotel_df\n",
      "Input \u001B[0;32mIn [570]\u001B[0m, in \u001B[0;36mdf_list\u001B[0;34m(df)\u001B[0m\n\u001B[1;32m      1\u001B[0m \u001B[38;5;28;01mdef\u001B[39;00m \u001B[38;5;21mdf_list\u001B[39m(df):\n\u001B[0;32m----> 2\u001B[0m     \u001B[38;5;28;01mreturn\u001B[39;00m \u001B[43mpd\u001B[49m\u001B[38;5;241;43m.\u001B[39;49m\u001B[43mconcat\u001B[49m\u001B[43m(\u001B[49m\u001B[43mdf\u001B[49m\u001B[43m)\u001B[49m\n",
      "File \u001B[0;32m~/Desktop/School/MSC/DS/Term 2/TM/Assignments/PS3/scraping/venv/lib/python3.8/site-packages/pandas/util/_decorators.py:311\u001B[0m, in \u001B[0;36mdeprecate_nonkeyword_arguments.<locals>.decorate.<locals>.wrapper\u001B[0;34m(*args, **kwargs)\u001B[0m\n\u001B[1;32m    305\u001B[0m \u001B[38;5;28;01mif\u001B[39;00m \u001B[38;5;28mlen\u001B[39m(args) \u001B[38;5;241m>\u001B[39m num_allow_args:\n\u001B[1;32m    306\u001B[0m     warnings\u001B[38;5;241m.\u001B[39mwarn(\n\u001B[1;32m    307\u001B[0m         msg\u001B[38;5;241m.\u001B[39mformat(arguments\u001B[38;5;241m=\u001B[39marguments),\n\u001B[1;32m    308\u001B[0m         \u001B[38;5;167;01mFutureWarning\u001B[39;00m,\n\u001B[1;32m    309\u001B[0m         stacklevel\u001B[38;5;241m=\u001B[39mstacklevel,\n\u001B[1;32m    310\u001B[0m     )\n\u001B[0;32m--> 311\u001B[0m \u001B[38;5;28;01mreturn\u001B[39;00m \u001B[43mfunc\u001B[49m\u001B[43m(\u001B[49m\u001B[38;5;241;43m*\u001B[39;49m\u001B[43margs\u001B[49m\u001B[43m,\u001B[49m\u001B[43m \u001B[49m\u001B[38;5;241;43m*\u001B[39;49m\u001B[38;5;241;43m*\u001B[39;49m\u001B[43mkwargs\u001B[49m\u001B[43m)\u001B[49m\n",
      "File \u001B[0;32m~/Desktop/School/MSC/DS/Term 2/TM/Assignments/PS3/scraping/venv/lib/python3.8/site-packages/pandas/core/reshape/concat.py:346\u001B[0m, in \u001B[0;36mconcat\u001B[0;34m(objs, axis, join, ignore_index, keys, levels, names, verify_integrity, sort, copy)\u001B[0m\n\u001B[1;32m    142\u001B[0m \u001B[38;5;129m@deprecate_nonkeyword_arguments\u001B[39m(version\u001B[38;5;241m=\u001B[39m\u001B[38;5;28;01mNone\u001B[39;00m, allowed_args\u001B[38;5;241m=\u001B[39m[\u001B[38;5;124m\"\u001B[39m\u001B[38;5;124mobjs\u001B[39m\u001B[38;5;124m\"\u001B[39m])\n\u001B[1;32m    143\u001B[0m \u001B[38;5;28;01mdef\u001B[39;00m \u001B[38;5;21mconcat\u001B[39m(\n\u001B[1;32m    144\u001B[0m     objs: Iterable[NDFrame] \u001B[38;5;241m|\u001B[39m Mapping[Hashable, NDFrame],\n\u001B[0;32m   (...)\u001B[0m\n\u001B[1;32m    153\u001B[0m     copy: \u001B[38;5;28mbool\u001B[39m \u001B[38;5;241m=\u001B[39m \u001B[38;5;28;01mTrue\u001B[39;00m,\n\u001B[1;32m    154\u001B[0m ) \u001B[38;5;241m-\u001B[39m\u001B[38;5;241m>\u001B[39m DataFrame \u001B[38;5;241m|\u001B[39m Series:\n\u001B[1;32m    155\u001B[0m     \u001B[38;5;124;03m\"\"\"\u001B[39;00m\n\u001B[1;32m    156\u001B[0m \u001B[38;5;124;03m    Concatenate pandas objects along a particular axis with optional set logic\u001B[39;00m\n\u001B[1;32m    157\u001B[0m \u001B[38;5;124;03m    along the other axes.\u001B[39;00m\n\u001B[0;32m   (...)\u001B[0m\n\u001B[1;32m    344\u001B[0m \u001B[38;5;124;03m    ValueError: Indexes have overlapping values: ['a']\u001B[39;00m\n\u001B[1;32m    345\u001B[0m \u001B[38;5;124;03m    \"\"\"\u001B[39;00m\n\u001B[0;32m--> 346\u001B[0m     op \u001B[38;5;241m=\u001B[39m \u001B[43m_Concatenator\u001B[49m\u001B[43m(\u001B[49m\n\u001B[1;32m    347\u001B[0m \u001B[43m        \u001B[49m\u001B[43mobjs\u001B[49m\u001B[43m,\u001B[49m\n\u001B[1;32m    348\u001B[0m \u001B[43m        \u001B[49m\u001B[43maxis\u001B[49m\u001B[38;5;241;43m=\u001B[39;49m\u001B[43maxis\u001B[49m\u001B[43m,\u001B[49m\n\u001B[1;32m    349\u001B[0m \u001B[43m        \u001B[49m\u001B[43mignore_index\u001B[49m\u001B[38;5;241;43m=\u001B[39;49m\u001B[43mignore_index\u001B[49m\u001B[43m,\u001B[49m\n\u001B[1;32m    350\u001B[0m \u001B[43m        \u001B[49m\u001B[43mjoin\u001B[49m\u001B[38;5;241;43m=\u001B[39;49m\u001B[43mjoin\u001B[49m\u001B[43m,\u001B[49m\n\u001B[1;32m    351\u001B[0m \u001B[43m        \u001B[49m\u001B[43mkeys\u001B[49m\u001B[38;5;241;43m=\u001B[39;49m\u001B[43mkeys\u001B[49m\u001B[43m,\u001B[49m\n\u001B[1;32m    352\u001B[0m \u001B[43m        \u001B[49m\u001B[43mlevels\u001B[49m\u001B[38;5;241;43m=\u001B[39;49m\u001B[43mlevels\u001B[49m\u001B[43m,\u001B[49m\n\u001B[1;32m    353\u001B[0m \u001B[43m        \u001B[49m\u001B[43mnames\u001B[49m\u001B[38;5;241;43m=\u001B[39;49m\u001B[43mnames\u001B[49m\u001B[43m,\u001B[49m\n\u001B[1;32m    354\u001B[0m \u001B[43m        \u001B[49m\u001B[43mverify_integrity\u001B[49m\u001B[38;5;241;43m=\u001B[39;49m\u001B[43mverify_integrity\u001B[49m\u001B[43m,\u001B[49m\n\u001B[1;32m    355\u001B[0m \u001B[43m        \u001B[49m\u001B[43mcopy\u001B[49m\u001B[38;5;241;43m=\u001B[39;49m\u001B[43mcopy\u001B[49m\u001B[43m,\u001B[49m\n\u001B[1;32m    356\u001B[0m \u001B[43m        \u001B[49m\u001B[43msort\u001B[49m\u001B[38;5;241;43m=\u001B[39;49m\u001B[43msort\u001B[49m\u001B[43m,\u001B[49m\n\u001B[1;32m    357\u001B[0m \u001B[43m    \u001B[49m\u001B[43m)\u001B[49m\n\u001B[1;32m    359\u001B[0m     \u001B[38;5;28;01mreturn\u001B[39;00m op\u001B[38;5;241m.\u001B[39mget_result()\n",
      "File \u001B[0;32m~/Desktop/School/MSC/DS/Term 2/TM/Assignments/PS3/scraping/venv/lib/python3.8/site-packages/pandas/core/reshape/concat.py:381\u001B[0m, in \u001B[0;36m_Concatenator.__init__\u001B[0;34m(self, objs, axis, join, keys, levels, names, ignore_index, verify_integrity, copy, sort)\u001B[0m\n\u001B[1;32m    367\u001B[0m \u001B[38;5;28;01mdef\u001B[39;00m \u001B[38;5;21m__init__\u001B[39m(\n\u001B[1;32m    368\u001B[0m     \u001B[38;5;28mself\u001B[39m,\n\u001B[1;32m    369\u001B[0m     objs: Iterable[NDFrame] \u001B[38;5;241m|\u001B[39m Mapping[Hashable, NDFrame],\n\u001B[0;32m   (...)\u001B[0m\n\u001B[1;32m    378\u001B[0m     sort\u001B[38;5;241m=\u001B[39m\u001B[38;5;28;01mFalse\u001B[39;00m,\n\u001B[1;32m    379\u001B[0m ):\n\u001B[1;32m    380\u001B[0m     \u001B[38;5;28;01mif\u001B[39;00m \u001B[38;5;28misinstance\u001B[39m(objs, (ABCSeries, ABCDataFrame, \u001B[38;5;28mstr\u001B[39m)):\n\u001B[0;32m--> 381\u001B[0m         \u001B[38;5;28;01mraise\u001B[39;00m \u001B[38;5;167;01mTypeError\u001B[39;00m(\n\u001B[1;32m    382\u001B[0m             \u001B[38;5;124m\"\u001B[39m\u001B[38;5;124mfirst argument must be an iterable of pandas \u001B[39m\u001B[38;5;124m\"\u001B[39m\n\u001B[1;32m    383\u001B[0m             \u001B[38;5;124mf\u001B[39m\u001B[38;5;124m'\u001B[39m\u001B[38;5;124mobjects, you passed an object of type \u001B[39m\u001B[38;5;124m\"\u001B[39m\u001B[38;5;132;01m{\u001B[39;00m\u001B[38;5;28mtype\u001B[39m(objs)\u001B[38;5;241m.\u001B[39m\u001B[38;5;18m__name__\u001B[39m\u001B[38;5;132;01m}\u001B[39;00m\u001B[38;5;124m\"\u001B[39m\u001B[38;5;124m'\u001B[39m\n\u001B[1;32m    384\u001B[0m         )\n\u001B[1;32m    386\u001B[0m     \u001B[38;5;28;01mif\u001B[39;00m join \u001B[38;5;241m==\u001B[39m \u001B[38;5;124m\"\u001B[39m\u001B[38;5;124mouter\u001B[39m\u001B[38;5;124m\"\u001B[39m:\n\u001B[1;32m    387\u001B[0m         \u001B[38;5;28mself\u001B[39m\u001B[38;5;241m.\u001B[39mintersect \u001B[38;5;241m=\u001B[39m \u001B[38;5;28;01mFalse\u001B[39;00m\n",
      "\u001B[0;31mTypeError\u001B[0m: first argument must be an iterable of pandas objects, you passed an object of type \"DataFrame\""
     ]
    }
   ],
   "source": [
    "hotel_df = [df_list(item) for item in hotels]\n",
    "hotel_df = df_list(hotel_df)\n",
    "hotel_df"
   ],
   "metadata": {
    "collapsed": false,
    "pycharm": {
     "name": "#%%\n"
    }
   }
  },
  {
   "cell_type": "markdown",
   "source": [
    "## Reset index:"
   ],
   "metadata": {
    "collapsed": false,
    "pycharm": {
     "name": "#%% md\n"
    }
   }
  },
  {
   "cell_type": "code",
   "execution_count": 785,
   "outputs": [],
   "source": [
    "hotel_df = hotel_df.reset_index()\n",
    "del hotel_df['index']"
   ],
   "metadata": {
    "collapsed": false,
    "pycharm": {
     "name": "#%%\n"
    }
   }
  },
  {
   "cell_type": "markdown",
   "source": [
    "## Extract relevant features:"
   ],
   "metadata": {
    "collapsed": false,
    "pycharm": {
     "name": "#%% md\n"
    }
   }
  },
  {
   "cell_type": "code",
   "execution_count": 786,
   "outputs": [
    {
     "ename": "KeyError",
     "evalue": "'hotel_list'",
     "output_type": "error",
     "traceback": [
      "\u001B[0;31m---------------------------------------------------------------------------\u001B[0m",
      "\u001B[0;31mKeyError\u001B[0m                                  Traceback (most recent call last)",
      "File \u001B[0;32m~/Desktop/School/MSC/DS/Term 2/TM/Assignments/PS3/scraping/venv/lib/python3.8/site-packages/pandas/core/indexes/base.py:3621\u001B[0m, in \u001B[0;36mIndex.get_loc\u001B[0;34m(self, key, method, tolerance)\u001B[0m\n\u001B[1;32m   3620\u001B[0m \u001B[38;5;28;01mtry\u001B[39;00m:\n\u001B[0;32m-> 3621\u001B[0m     \u001B[38;5;28;01mreturn\u001B[39;00m \u001B[38;5;28;43mself\u001B[39;49m\u001B[38;5;241;43m.\u001B[39;49m\u001B[43m_engine\u001B[49m\u001B[38;5;241;43m.\u001B[39;49m\u001B[43mget_loc\u001B[49m\u001B[43m(\u001B[49m\u001B[43mcasted_key\u001B[49m\u001B[43m)\u001B[49m\n\u001B[1;32m   3622\u001B[0m \u001B[38;5;28;01mexcept\u001B[39;00m \u001B[38;5;167;01mKeyError\u001B[39;00m \u001B[38;5;28;01mas\u001B[39;00m err:\n",
      "File \u001B[0;32m~/Desktop/School/MSC/DS/Term 2/TM/Assignments/PS3/scraping/venv/lib/python3.8/site-packages/pandas/_libs/index.pyx:136\u001B[0m, in \u001B[0;36mpandas._libs.index.IndexEngine.get_loc\u001B[0;34m()\u001B[0m\n",
      "File \u001B[0;32m~/Desktop/School/MSC/DS/Term 2/TM/Assignments/PS3/scraping/venv/lib/python3.8/site-packages/pandas/_libs/index.pyx:163\u001B[0m, in \u001B[0;36mpandas._libs.index.IndexEngine.get_loc\u001B[0;34m()\u001B[0m\n",
      "File \u001B[0;32mpandas/_libs/hashtable_class_helper.pxi:5198\u001B[0m, in \u001B[0;36mpandas._libs.hashtable.PyObjectHashTable.get_item\u001B[0;34m()\u001B[0m\n",
      "File \u001B[0;32mpandas/_libs/hashtable_class_helper.pxi:5206\u001B[0m, in \u001B[0;36mpandas._libs.hashtable.PyObjectHashTable.get_item\u001B[0;34m()\u001B[0m\n",
      "\u001B[0;31mKeyError\u001B[0m: 'hotel_list'",
      "\nThe above exception was the direct cause of the following exception:\n",
      "\u001B[0;31mKeyError\u001B[0m                                  Traceback (most recent call last)",
      "Input \u001B[0;32mIn [786]\u001B[0m, in \u001B[0;36m<module>\u001B[0;34m\u001B[0m\n\u001B[1;32m      1\u001B[0m \u001B[38;5;66;03m# Add column if breakfast is included:\u001B[39;00m\n\u001B[1;32m      2\u001B[0m breakfast \u001B[38;5;241m=\u001B[39m \u001B[38;5;124m\"\u001B[39m\u001B[38;5;124mBreakfast included\u001B[39m\u001B[38;5;124m\"\u001B[39m\n\u001B[0;32m----> 3\u001B[0m hotel_df[\u001B[38;5;124m'\u001B[39m\u001B[38;5;124mbreakfast\u001B[39m\u001B[38;5;124m'\u001B[39m] \u001B[38;5;241m=\u001B[39m \u001B[43mhotel_df\u001B[49m\u001B[43m[\u001B[49m\u001B[38;5;124;43m'\u001B[39;49m\u001B[38;5;124;43mhotel_list\u001B[39;49m\u001B[38;5;124;43m'\u001B[39;49m\u001B[43m]\u001B[49m\u001B[38;5;241m.\u001B[39mapply(\u001B[38;5;28;01mlambda\u001B[39;00m st: \u001B[38;5;241m1\u001B[39m \u001B[38;5;28;01mif\u001B[39;00m breakfast \u001B[38;5;129;01min\u001B[39;00m st \u001B[38;5;28;01melse\u001B[39;00m \u001B[38;5;241m0\u001B[39m)\n\u001B[1;32m      5\u001B[0m \u001B[38;5;66;03m# Remove breakfast:\u001B[39;00m\n\u001B[1;32m      6\u001B[0m hotel_df[\u001B[38;5;124m'\u001B[39m\u001B[38;5;124mhotel_list\u001B[39m\u001B[38;5;124m'\u001B[39m] \u001B[38;5;241m=\u001B[39m hotel_df[\u001B[38;5;124m'\u001B[39m\u001B[38;5;124mhotel_list\u001B[39m\u001B[38;5;124m'\u001B[39m]\u001B[38;5;241m.\u001B[39mstr\u001B[38;5;241m.\u001B[39mreplace(\u001B[38;5;124mr\u001B[39m\u001B[38;5;124m'\u001B[39m\u001B[38;5;124mBreakfast included\u001B[39m\u001B[38;5;124m\\\u001B[39m\u001B[38;5;124mn\u001B[39m\u001B[38;5;124m'\u001B[39m, \u001B[38;5;124m'\u001B[39m\u001B[38;5;124m'\u001B[39m)\n",
      "File \u001B[0;32m~/Desktop/School/MSC/DS/Term 2/TM/Assignments/PS3/scraping/venv/lib/python3.8/site-packages/pandas/core/frame.py:3506\u001B[0m, in \u001B[0;36mDataFrame.__getitem__\u001B[0;34m(self, key)\u001B[0m\n\u001B[1;32m   3504\u001B[0m \u001B[38;5;28;01mif\u001B[39;00m \u001B[38;5;28mself\u001B[39m\u001B[38;5;241m.\u001B[39mcolumns\u001B[38;5;241m.\u001B[39mnlevels \u001B[38;5;241m>\u001B[39m \u001B[38;5;241m1\u001B[39m:\n\u001B[1;32m   3505\u001B[0m     \u001B[38;5;28;01mreturn\u001B[39;00m \u001B[38;5;28mself\u001B[39m\u001B[38;5;241m.\u001B[39m_getitem_multilevel(key)\n\u001B[0;32m-> 3506\u001B[0m indexer \u001B[38;5;241m=\u001B[39m \u001B[38;5;28;43mself\u001B[39;49m\u001B[38;5;241;43m.\u001B[39;49m\u001B[43mcolumns\u001B[49m\u001B[38;5;241;43m.\u001B[39;49m\u001B[43mget_loc\u001B[49m\u001B[43m(\u001B[49m\u001B[43mkey\u001B[49m\u001B[43m)\u001B[49m\n\u001B[1;32m   3507\u001B[0m \u001B[38;5;28;01mif\u001B[39;00m is_integer(indexer):\n\u001B[1;32m   3508\u001B[0m     indexer \u001B[38;5;241m=\u001B[39m [indexer]\n",
      "File \u001B[0;32m~/Desktop/School/MSC/DS/Term 2/TM/Assignments/PS3/scraping/venv/lib/python3.8/site-packages/pandas/core/indexes/base.py:3623\u001B[0m, in \u001B[0;36mIndex.get_loc\u001B[0;34m(self, key, method, tolerance)\u001B[0m\n\u001B[1;32m   3621\u001B[0m     \u001B[38;5;28;01mreturn\u001B[39;00m \u001B[38;5;28mself\u001B[39m\u001B[38;5;241m.\u001B[39m_engine\u001B[38;5;241m.\u001B[39mget_loc(casted_key)\n\u001B[1;32m   3622\u001B[0m \u001B[38;5;28;01mexcept\u001B[39;00m \u001B[38;5;167;01mKeyError\u001B[39;00m \u001B[38;5;28;01mas\u001B[39;00m err:\n\u001B[0;32m-> 3623\u001B[0m     \u001B[38;5;28;01mraise\u001B[39;00m \u001B[38;5;167;01mKeyError\u001B[39;00m(key) \u001B[38;5;28;01mfrom\u001B[39;00m \u001B[38;5;21;01merr\u001B[39;00m\n\u001B[1;32m   3624\u001B[0m \u001B[38;5;28;01mexcept\u001B[39;00m \u001B[38;5;167;01mTypeError\u001B[39;00m:\n\u001B[1;32m   3625\u001B[0m     \u001B[38;5;66;03m# If we have a listlike key, _check_indexing_error will raise\u001B[39;00m\n\u001B[1;32m   3626\u001B[0m     \u001B[38;5;66;03m#  InvalidIndexError. Otherwise we fall through and re-raise\u001B[39;00m\n\u001B[1;32m   3627\u001B[0m     \u001B[38;5;66;03m#  the TypeError.\u001B[39;00m\n\u001B[1;32m   3628\u001B[0m     \u001B[38;5;28mself\u001B[39m\u001B[38;5;241m.\u001B[39m_check_indexing_error(key)\n",
      "\u001B[0;31mKeyError\u001B[0m: 'hotel_list'"
     ]
    }
   ],
   "source": [
    "# Add column if breakfast is included:\n",
    "breakfast = \"Breakfast included\"\n",
    "hotel_df['breakfast'] = hotel_df['hotel_list'].apply(lambda st: 1 if breakfast in st else 0)\n",
    "\n",
    "# Remove breakfast:\n",
    "hotel_df['hotel_list'] = hotel_df['hotel_list'].str.replace(r'Breakfast included\\n', '')\n",
    "\n",
    "# Add hotel name:\n",
    "hotel_df['hotel'] = hotel_df['hotel_list'].apply(lambda st: st[st.find(\"Opens in new window\\n\")+len(\"Opens in new window\\n\"):st.find(\"\\nOpens in new window\")])\n",
    "\n",
    "\n",
    "# Add beach:\n",
    "beach = \"Beach nearby\"\n",
    "hotel_df['beach_near'] = hotel_df['hotel_list'].apply(lambda st: 1 if beach in st else 0)\n",
    "\n",
    "# Get number of reviews:\n",
    "def review(hotel):\n",
    "    return re.findall(r'(\\d+) reviews', hotel)\n",
    "\n",
    "hotel_df['review'] = hotel_df['hotel_list'].apply(review)\n",
    "# all_list_1\n",
    "\n",
    "# Get reviews:\n",
    "def rating(hotel):\n",
    "    return re.findall(r'\\n+(\\d.\\d+)\\n',hotel)\n",
    "\n",
    "hotel_df['rating'] = hotel_df['hotel_list'].apply(rating)\n",
    "\n",
    "\n",
    "# Get prices:\n",
    "def price(hotel):\n",
    "    return re.findall(r'€+ (\\d+)',hotel)\n",
    "\n",
    "hotel_df['price'] = hotel_df['hotel_list'].apply(price)\n",
    "\n",
    "# Add prepayment: 1 if prepayment required\n",
    "prepay = \"No prepayment\"\n",
    "hotel_df['prepayment'] = hotel_df['hotel_list'].apply(lambda st: 0 if prepay in st else 1)\n",
    "\n",
    "# Add free_canellation: 1 if free cancellation possible\n",
    "free_cancel = \"FREE cancellation\"\n",
    "hotel_df['free_cancel'] = hotel_df['hotel_list'].apply(lambda  st: 1 if free_cancel in st else 0)\n",
    "\n",
    "# Add distance from centre:\n",
    "hotel_df['distance_centre'] = hotel_df['hotel_list'].apply(lambda st: st[st.find(\"map\")+len(\"map\"):st.find(\" from centre\")])\n",
    "\n",
    "# Add metro:\n",
    "metro = \"metro\"\n",
    "hotel_df['metro'] = hotel_df['hotel_list'].apply(lambda  st: 1 if metro in st.casefold() else 0)\n",
    "hotel_df\n"
   ],
   "metadata": {
    "collapsed": false,
    "pycharm": {
     "name": "#%%\n"
    }
   }
  },
  {
   "cell_type": "markdown",
   "source": [
    "## Convert string features to float:\n"
   ],
   "metadata": {
    "collapsed": false,
    "pycharm": {
     "name": "#%% md\n"
    }
   }
  },
  {
   "cell_type": "markdown",
   "source": [
    "### Function to convert distance to float"
   ],
   "metadata": {
    "collapsed": false,
    "pycharm": {
     "name": "#%% md\n"
    }
   }
  },
  {
   "cell_type": "code",
   "execution_count": 781,
   "outputs": [],
   "source": [
    "def dist(x):\n",
    "    if \"km\" in x:\n",
    "        return float(x.strip(\"km\"))*1000\n",
    "    elif \"km\" not in x:\n",
    "        return float(x.strip(\"m\"))\n",
    "    else:\n",
    "        pass"
   ],
   "metadata": {
    "collapsed": false,
    "pycharm": {
     "name": "#%%\n"
    }
   }
  },
  {
   "cell_type": "code",
   "execution_count": 787,
   "outputs": [
    {
     "ename": "KeyError",
     "evalue": "'distance_centre'",
     "output_type": "error",
     "traceback": [
      "\u001B[0;31m---------------------------------------------------------------------------\u001B[0m",
      "\u001B[0;31mKeyError\u001B[0m                                  Traceback (most recent call last)",
      "File \u001B[0;32m~/Desktop/School/MSC/DS/Term 2/TM/Assignments/PS3/scraping/venv/lib/python3.8/site-packages/pandas/core/indexes/base.py:3621\u001B[0m, in \u001B[0;36mIndex.get_loc\u001B[0;34m(self, key, method, tolerance)\u001B[0m\n\u001B[1;32m   3620\u001B[0m \u001B[38;5;28;01mtry\u001B[39;00m:\n\u001B[0;32m-> 3621\u001B[0m     \u001B[38;5;28;01mreturn\u001B[39;00m \u001B[38;5;28;43mself\u001B[39;49m\u001B[38;5;241;43m.\u001B[39;49m\u001B[43m_engine\u001B[49m\u001B[38;5;241;43m.\u001B[39;49m\u001B[43mget_loc\u001B[49m\u001B[43m(\u001B[49m\u001B[43mcasted_key\u001B[49m\u001B[43m)\u001B[49m\n\u001B[1;32m   3622\u001B[0m \u001B[38;5;28;01mexcept\u001B[39;00m \u001B[38;5;167;01mKeyError\u001B[39;00m \u001B[38;5;28;01mas\u001B[39;00m err:\n",
      "File \u001B[0;32m~/Desktop/School/MSC/DS/Term 2/TM/Assignments/PS3/scraping/venv/lib/python3.8/site-packages/pandas/_libs/index.pyx:136\u001B[0m, in \u001B[0;36mpandas._libs.index.IndexEngine.get_loc\u001B[0;34m()\u001B[0m\n",
      "File \u001B[0;32m~/Desktop/School/MSC/DS/Term 2/TM/Assignments/PS3/scraping/venv/lib/python3.8/site-packages/pandas/_libs/index.pyx:163\u001B[0m, in \u001B[0;36mpandas._libs.index.IndexEngine.get_loc\u001B[0;34m()\u001B[0m\n",
      "File \u001B[0;32mpandas/_libs/hashtable_class_helper.pxi:5198\u001B[0m, in \u001B[0;36mpandas._libs.hashtable.PyObjectHashTable.get_item\u001B[0;34m()\u001B[0m\n",
      "File \u001B[0;32mpandas/_libs/hashtable_class_helper.pxi:5206\u001B[0m, in \u001B[0;36mpandas._libs.hashtable.PyObjectHashTable.get_item\u001B[0;34m()\u001B[0m\n",
      "\u001B[0;31mKeyError\u001B[0m: 'distance_centre'",
      "\nThe above exception was the direct cause of the following exception:\n",
      "\u001B[0;31mKeyError\u001B[0m                                  Traceback (most recent call last)",
      "Input \u001B[0;32mIn [787]\u001B[0m, in \u001B[0;36m<module>\u001B[0;34m\u001B[0m\n\u001B[1;32m      1\u001B[0m \u001B[38;5;66;03m# Convert distance to float:\u001B[39;00m\n\u001B[0;32m----> 2\u001B[0m hotel_df[\u001B[38;5;124m'\u001B[39m\u001B[38;5;124mdist\u001B[39m\u001B[38;5;124m'\u001B[39m] \u001B[38;5;241m=\u001B[39m \u001B[43mhotel_df\u001B[49m\u001B[43m[\u001B[49m\u001B[38;5;124;43m'\u001B[39;49m\u001B[38;5;124;43mdistance_centre\u001B[39;49m\u001B[38;5;124;43m'\u001B[39;49m\u001B[43m]\u001B[49m\u001B[38;5;241m.\u001B[39mapply(dist)\n\u001B[1;32m      4\u001B[0m \u001B[38;5;66;03m# Extract number of revies:\u001B[39;00m\n\u001B[1;32m      5\u001B[0m hotel_df[\u001B[38;5;124m'\u001B[39m\u001B[38;5;124mnum_revs\u001B[39m\u001B[38;5;124m'\u001B[39m] \u001B[38;5;241m=\u001B[39m pd\u001B[38;5;241m.\u001B[39mDataFrame(hotel_df[\u001B[38;5;124m'\u001B[39m\u001B[38;5;124mreview\u001B[39m\u001B[38;5;124m'\u001B[39m]\u001B[38;5;241m.\u001B[39mtolist())\n",
      "File \u001B[0;32m~/Desktop/School/MSC/DS/Term 2/TM/Assignments/PS3/scraping/venv/lib/python3.8/site-packages/pandas/core/frame.py:3506\u001B[0m, in \u001B[0;36mDataFrame.__getitem__\u001B[0;34m(self, key)\u001B[0m\n\u001B[1;32m   3504\u001B[0m \u001B[38;5;28;01mif\u001B[39;00m \u001B[38;5;28mself\u001B[39m\u001B[38;5;241m.\u001B[39mcolumns\u001B[38;5;241m.\u001B[39mnlevels \u001B[38;5;241m>\u001B[39m \u001B[38;5;241m1\u001B[39m:\n\u001B[1;32m   3505\u001B[0m     \u001B[38;5;28;01mreturn\u001B[39;00m \u001B[38;5;28mself\u001B[39m\u001B[38;5;241m.\u001B[39m_getitem_multilevel(key)\n\u001B[0;32m-> 3506\u001B[0m indexer \u001B[38;5;241m=\u001B[39m \u001B[38;5;28;43mself\u001B[39;49m\u001B[38;5;241;43m.\u001B[39;49m\u001B[43mcolumns\u001B[49m\u001B[38;5;241;43m.\u001B[39;49m\u001B[43mget_loc\u001B[49m\u001B[43m(\u001B[49m\u001B[43mkey\u001B[49m\u001B[43m)\u001B[49m\n\u001B[1;32m   3507\u001B[0m \u001B[38;5;28;01mif\u001B[39;00m is_integer(indexer):\n\u001B[1;32m   3508\u001B[0m     indexer \u001B[38;5;241m=\u001B[39m [indexer]\n",
      "File \u001B[0;32m~/Desktop/School/MSC/DS/Term 2/TM/Assignments/PS3/scraping/venv/lib/python3.8/site-packages/pandas/core/indexes/base.py:3623\u001B[0m, in \u001B[0;36mIndex.get_loc\u001B[0;34m(self, key, method, tolerance)\u001B[0m\n\u001B[1;32m   3621\u001B[0m     \u001B[38;5;28;01mreturn\u001B[39;00m \u001B[38;5;28mself\u001B[39m\u001B[38;5;241m.\u001B[39m_engine\u001B[38;5;241m.\u001B[39mget_loc(casted_key)\n\u001B[1;32m   3622\u001B[0m \u001B[38;5;28;01mexcept\u001B[39;00m \u001B[38;5;167;01mKeyError\u001B[39;00m \u001B[38;5;28;01mas\u001B[39;00m err:\n\u001B[0;32m-> 3623\u001B[0m     \u001B[38;5;28;01mraise\u001B[39;00m \u001B[38;5;167;01mKeyError\u001B[39;00m(key) \u001B[38;5;28;01mfrom\u001B[39;00m \u001B[38;5;21;01merr\u001B[39;00m\n\u001B[1;32m   3624\u001B[0m \u001B[38;5;28;01mexcept\u001B[39;00m \u001B[38;5;167;01mTypeError\u001B[39;00m:\n\u001B[1;32m   3625\u001B[0m     \u001B[38;5;66;03m# If we have a listlike key, _check_indexing_error will raise\u001B[39;00m\n\u001B[1;32m   3626\u001B[0m     \u001B[38;5;66;03m#  InvalidIndexError. Otherwise we fall through and re-raise\u001B[39;00m\n\u001B[1;32m   3627\u001B[0m     \u001B[38;5;66;03m#  the TypeError.\u001B[39;00m\n\u001B[1;32m   3628\u001B[0m     \u001B[38;5;28mself\u001B[39m\u001B[38;5;241m.\u001B[39m_check_indexing_error(key)\n",
      "\u001B[0;31mKeyError\u001B[0m: 'distance_centre'"
     ]
    }
   ],
   "source": [
    "# Convert distance to float:\n",
    "hotel_df['dist'] = hotel_df['distance_centre'].apply(dist)\n",
    "\n",
    "# Extract number of reviews:\n",
    "hotel_df['num_revs'] = pd.DataFrame(hotel_df['review'].tolist())\n",
    "hotel_df\n",
    "\n",
    "# Extract prices and concat with original df:\n",
    "prices = pd.DataFrame(hotel_df['price'].tolist(),columns=['price1','price2','price3'])\n",
    "del prices['price3']\n",
    "hotel_df = pd.concat([hotel_df,prices],axis=1)\n",
    "\n",
    "# Extract rating score:\n",
    "hotel_df['rating'] = pd.DataFrame(hotel_df['rating'].tolist())\n",
    "\n",
    "# Remove original features:\n",
    "delete = ['hotel_list','distance_centre', 'review','price']\n",
    "hotel_df = hotel_df.drop(['hotel_list','distance_centre', 'review','price'],axis = 1)\n",
    "\n",
    "# Convert string elements to float:\n",
    "strin = ['rating','rev_score','price1','price2']\n",
    "for item in strin:\n",
    "    hotels[item] = hotels[item].astype(float)"
   ],
   "metadata": {
    "collapsed": false,
    "pycharm": {
     "name": "#%%\n"
    }
   }
  },
  {
   "cell_type": "markdown",
   "source": [
    "## Reorder features:"
   ],
   "metadata": {
    "collapsed": false,
    "pycharm": {
     "name": "#%% md\n"
    }
   }
  },
  {
   "cell_type": "code",
   "execution_count": 793,
   "outputs": [],
   "source": [
    "hotel = hotel_df['hotel']\n",
    "hotel_df = hotel_df.drop(columns=['hotel'])\n",
    "hotel_df.insert(loc=0,column='hotel',value=hotel)"
   ],
   "metadata": {
    "collapsed": false,
    "pycharm": {
     "name": "#%%\n"
    }
   }
  },
  {
   "cell_type": "code",
   "execution_count": 794,
   "outputs": [
    {
     "data": {
      "text/plain": "                                                hotel  day  breakfast  \\\n0                          Mayerling Bisbe Urquinaona    0          0   \n1                          B&B Hotel Barcelona Mollet    0          0   \n2                                 Eurostars Executive    0          0   \n3                             Hotel Porta Fira 4* Sup    0          0   \n4     Holiday Inn Express Molins de Rei, an IHG Hotel    0          0   \n...                                               ...  ...        ...   \n1964                                        ESPASERIA    1          0   \n1965                                          Bordeta    1          0   \n1966                Sleep on a Sailing Boat Barcelona    1          0   \n1967                       Relax on a Yacht Barcelona    1          0   \n1968              Unique Rentals-Seafront Luxe Suites    1          0   \n\n      beach_near  rating  prepayment  free_cancel  metro     dist  num_revs  \\\n0              1     8.2           0            1      1    400.0     664.0   \n1              0     7.8           1            0      0  17700.0     345.0   \n2              0     8.2           0            1      0  14300.0     337.0   \n3              0     8.7           0            1      1   5200.0     353.0   \n4              0     8.0           1            0      0  12500.0     631.0   \n...          ...     ...         ...          ...    ...      ...       ...   \n1964           1     7.8           1            0      1   1100.0      54.0   \n1965           0     9.5           1            0      1   2800.0      41.0   \n1966           0     7.9           1            0      0   5700.0      33.0   \n1967           0     8.3           1            0      0   5700.0      35.0   \n1968           0     7.9           1            0      0   4500.0       5.0   \n\n      price1  price2  \n0      146.0    89.0  \n1       53.0     NaN  \n2       66.0     NaN  \n3       71.0     NaN  \n4       56.0     NaN  \n...      ...     ...  \n1964   168.0     NaN  \n1965   283.0     NaN  \n1966   123.0     NaN  \n1967   100.0     NaN  \n1968   305.0     NaN  \n\n[1969 rows x 12 columns]",
      "text/html": "<div>\n<style scoped>\n    .dataframe tbody tr th:only-of-type {\n        vertical-align: middle;\n    }\n\n    .dataframe tbody tr th {\n        vertical-align: top;\n    }\n\n    .dataframe thead th {\n        text-align: right;\n    }\n</style>\n<table border=\"1\" class=\"dataframe\">\n  <thead>\n    <tr style=\"text-align: right;\">\n      <th></th>\n      <th>hotel</th>\n      <th>day</th>\n      <th>breakfast</th>\n      <th>beach_near</th>\n      <th>rating</th>\n      <th>prepayment</th>\n      <th>free_cancel</th>\n      <th>metro</th>\n      <th>dist</th>\n      <th>num_revs</th>\n      <th>price1</th>\n      <th>price2</th>\n    </tr>\n  </thead>\n  <tbody>\n    <tr>\n      <th>0</th>\n      <td>Mayerling Bisbe Urquinaona</td>\n      <td>0</td>\n      <td>0</td>\n      <td>1</td>\n      <td>8.2</td>\n      <td>0</td>\n      <td>1</td>\n      <td>1</td>\n      <td>400.0</td>\n      <td>664.0</td>\n      <td>146.0</td>\n      <td>89.0</td>\n    </tr>\n    <tr>\n      <th>1</th>\n      <td>B&amp;B Hotel Barcelona Mollet</td>\n      <td>0</td>\n      <td>0</td>\n      <td>0</td>\n      <td>7.8</td>\n      <td>1</td>\n      <td>0</td>\n      <td>0</td>\n      <td>17700.0</td>\n      <td>345.0</td>\n      <td>53.0</td>\n      <td>NaN</td>\n    </tr>\n    <tr>\n      <th>2</th>\n      <td>Eurostars Executive</td>\n      <td>0</td>\n      <td>0</td>\n      <td>0</td>\n      <td>8.2</td>\n      <td>0</td>\n      <td>1</td>\n      <td>0</td>\n      <td>14300.0</td>\n      <td>337.0</td>\n      <td>66.0</td>\n      <td>NaN</td>\n    </tr>\n    <tr>\n      <th>3</th>\n      <td>Hotel Porta Fira 4* Sup</td>\n      <td>0</td>\n      <td>0</td>\n      <td>0</td>\n      <td>8.7</td>\n      <td>0</td>\n      <td>1</td>\n      <td>1</td>\n      <td>5200.0</td>\n      <td>353.0</td>\n      <td>71.0</td>\n      <td>NaN</td>\n    </tr>\n    <tr>\n      <th>4</th>\n      <td>Holiday Inn Express Molins de Rei, an IHG Hotel</td>\n      <td>0</td>\n      <td>0</td>\n      <td>0</td>\n      <td>8.0</td>\n      <td>1</td>\n      <td>0</td>\n      <td>0</td>\n      <td>12500.0</td>\n      <td>631.0</td>\n      <td>56.0</td>\n      <td>NaN</td>\n    </tr>\n    <tr>\n      <th>...</th>\n      <td>...</td>\n      <td>...</td>\n      <td>...</td>\n      <td>...</td>\n      <td>...</td>\n      <td>...</td>\n      <td>...</td>\n      <td>...</td>\n      <td>...</td>\n      <td>...</td>\n      <td>...</td>\n      <td>...</td>\n    </tr>\n    <tr>\n      <th>1964</th>\n      <td>ESPASERIA</td>\n      <td>1</td>\n      <td>0</td>\n      <td>1</td>\n      <td>7.8</td>\n      <td>1</td>\n      <td>0</td>\n      <td>1</td>\n      <td>1100.0</td>\n      <td>54.0</td>\n      <td>168.0</td>\n      <td>NaN</td>\n    </tr>\n    <tr>\n      <th>1965</th>\n      <td>Bordeta</td>\n      <td>1</td>\n      <td>0</td>\n      <td>0</td>\n      <td>9.5</td>\n      <td>1</td>\n      <td>0</td>\n      <td>1</td>\n      <td>2800.0</td>\n      <td>41.0</td>\n      <td>283.0</td>\n      <td>NaN</td>\n    </tr>\n    <tr>\n      <th>1966</th>\n      <td>Sleep on a Sailing Boat Barcelona</td>\n      <td>1</td>\n      <td>0</td>\n      <td>0</td>\n      <td>7.9</td>\n      <td>1</td>\n      <td>0</td>\n      <td>0</td>\n      <td>5700.0</td>\n      <td>33.0</td>\n      <td>123.0</td>\n      <td>NaN</td>\n    </tr>\n    <tr>\n      <th>1967</th>\n      <td>Relax on a Yacht Barcelona</td>\n      <td>1</td>\n      <td>0</td>\n      <td>0</td>\n      <td>8.3</td>\n      <td>1</td>\n      <td>0</td>\n      <td>0</td>\n      <td>5700.0</td>\n      <td>35.0</td>\n      <td>100.0</td>\n      <td>NaN</td>\n    </tr>\n    <tr>\n      <th>1968</th>\n      <td>Unique Rentals-Seafront Luxe Suites</td>\n      <td>1</td>\n      <td>0</td>\n      <td>0</td>\n      <td>7.9</td>\n      <td>1</td>\n      <td>0</td>\n      <td>0</td>\n      <td>4500.0</td>\n      <td>5.0</td>\n      <td>305.0</td>\n      <td>NaN</td>\n    </tr>\n  </tbody>\n</table>\n<p>1969 rows × 12 columns</p>\n</div>"
     },
     "execution_count": 794,
     "metadata": {},
     "output_type": "execute_result"
    }
   ],
   "source": [
    "hotel_df\n"
   ],
   "metadata": {
    "collapsed": false,
    "pycharm": {
     "name": "#%%\n"
    }
   }
  },
  {
   "cell_type": "markdown",
   "source": [
    "## Export df to csv:"
   ],
   "metadata": {
    "collapsed": false,
    "pycharm": {
     "name": "#%% md\n"
    }
   }
  },
  {
   "cell_type": "code",
   "execution_count": 736,
   "outputs": [],
   "source": [
    "hotel_df.to_csv('hotels.csv')"
   ],
   "metadata": {
    "collapsed": false,
    "pycharm": {
     "name": "#%%\n"
    }
   }
  }
 ],
 "metadata": {
  "kernelspec": {
   "display_name": "Python 3",
   "language": "python",
   "name": "python3"
  },
  "language_info": {
   "codemirror_mode": {
    "name": "ipython",
    "version": 3
   },
   "file_extension": ".py",
   "mimetype": "text/x-python",
   "name": "python",
   "nbconvert_exporter": "python",
   "pygments_lexer": "ipython3",
   "version": "3.8.3"
  }
 },
 "nbformat": 4,
 "nbformat_minor": 4
}